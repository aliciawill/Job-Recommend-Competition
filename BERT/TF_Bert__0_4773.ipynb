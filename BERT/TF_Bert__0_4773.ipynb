{
  "nbformat": 4,
  "nbformat_minor": 0,
  "metadata": {
    "colab": {
      "name": "TF_Bert _0.4773.ipynb",
      "provenance": [],
      "collapsed_sections": []
    },
    "kernelspec": {
      "display_name": "Python 3",
      "name": "python3"
    },
    "language_info": {
      "name": "python"
    },
    "accelerator": "GPU"
  },
  "cells": [
    {
      "cell_type": "code",
      "metadata": {
        "colab": {
          "base_uri": "https://localhost:8080/"
        },
        "id": "xNR5Sb0h8o-F",
        "outputId": "315dbca6-8f7a-442a-a19e-8eeb7fb6ceae"
      },
      "source": [
        "!pip3 install transformers"
      ],
      "execution_count": 47,
      "outputs": [
        {
          "output_type": "stream",
          "name": "stdout",
          "text": [
            "Requirement already satisfied: transformers in /usr/local/lib/python3.7/dist-packages (4.10.0)\n",
            "Requirement already satisfied: huggingface-hub>=0.0.12 in /usr/local/lib/python3.7/dist-packages (from transformers) (0.0.16)\n",
            "Requirement already satisfied: tokenizers<0.11,>=0.10.1 in /usr/local/lib/python3.7/dist-packages (from transformers) (0.10.3)\n",
            "Requirement already satisfied: tqdm>=4.27 in /usr/local/lib/python3.7/dist-packages (from transformers) (4.62.0)\n",
            "Requirement already satisfied: sacremoses in /usr/local/lib/python3.7/dist-packages (from transformers) (0.0.45)\n",
            "Requirement already satisfied: importlib-metadata in /usr/local/lib/python3.7/dist-packages (from transformers) (4.6.4)\n",
            "Requirement already satisfied: pyyaml>=5.1 in /usr/local/lib/python3.7/dist-packages (from transformers) (5.4.1)\n",
            "Requirement already satisfied: packaging in /usr/local/lib/python3.7/dist-packages (from transformers) (21.0)\n",
            "Requirement already satisfied: filelock in /usr/local/lib/python3.7/dist-packages (from transformers) (3.0.12)\n",
            "Requirement already satisfied: regex!=2019.12.17 in /usr/local/lib/python3.7/dist-packages (from transformers) (2019.12.20)\n",
            "Requirement already satisfied: numpy>=1.17 in /usr/local/lib/python3.7/dist-packages (from transformers) (1.19.5)\n",
            "Requirement already satisfied: requests in /usr/local/lib/python3.7/dist-packages (from transformers) (2.23.0)\n",
            "Requirement already satisfied: typing-extensions in /usr/local/lib/python3.7/dist-packages (from huggingface-hub>=0.0.12->transformers) (3.7.4.3)\n",
            "Requirement already satisfied: pyparsing>=2.0.2 in /usr/local/lib/python3.7/dist-packages (from packaging->transformers) (2.4.7)\n",
            "Requirement already satisfied: zipp>=0.5 in /usr/local/lib/python3.7/dist-packages (from importlib-metadata->transformers) (3.5.0)\n",
            "Requirement already satisfied: idna<3,>=2.5 in /usr/local/lib/python3.7/dist-packages (from requests->transformers) (2.10)\n",
            "Requirement already satisfied: certifi>=2017.4.17 in /usr/local/lib/python3.7/dist-packages (from requests->transformers) (2021.5.30)\n",
            "Requirement already satisfied: chardet<4,>=3.0.2 in /usr/local/lib/python3.7/dist-packages (from requests->transformers) (3.0.4)\n",
            "Requirement already satisfied: urllib3!=1.25.0,!=1.25.1,<1.26,>=1.21.1 in /usr/local/lib/python3.7/dist-packages (from requests->transformers) (1.24.3)\n",
            "Requirement already satisfied: joblib in /usr/local/lib/python3.7/dist-packages (from sacremoses->transformers) (1.0.1)\n",
            "Requirement already satisfied: six in /usr/local/lib/python3.7/dist-packages (from sacremoses->transformers) (1.15.0)\n",
            "Requirement already satisfied: click in /usr/local/lib/python3.7/dist-packages (from sacremoses->transformers) (7.1.2)\n"
          ]
        }
      ]
    },
    {
      "cell_type": "code",
      "metadata": {
        "id": "Pr7ZL_b8WrWa"
      },
      "source": [
        "from transformers import BertTokenizer, BertConfig, TFBertForSequenceClassification\n",
        "import tensorflow as tf\n",
        "import numpy as np\n",
        "from tensorflow.keras import Input, layers, Model\n",
        "\n",
        "# bert안에서 처리할 시퀀스의 최대 길이\n",
        "MAX_SEQUENCE_LEN = 150"
      ],
      "execution_count": 113,
      "outputs": []
    },
    {
      "cell_type": "code",
      "metadata": {
        "colab": {
          "base_uri": "https://localhost:8080/"
        },
        "id": "IjV35g5mxe6L",
        "outputId": "fb23d76f-f66d-4af3-ff33-f52eed90de35"
      },
      "source": [
        "from google.colab import drive\n",
        "drive.mount('/content/drive')"
      ],
      "execution_count": null,
      "outputs": [
        {
          "output_type": "stream",
          "name": "stdout",
          "text": [
            "Drive already mounted at /content/drive; to attempt to forcibly remount, call drive.mount(\"/content/drive\", force_remount=True).\n"
          ]
        }
      ]
    },
    {
      "cell_type": "code",
      "metadata": {
        "id": "lUckxGakfJwk",
        "colab": {
          "base_uri": "https://localhost:8080/",
          "height": 36
        },
        "outputId": "047d60f4-7ea6-46dc-c541-de433b619115"
      },
      "source": [
        "''' 네이버 영화 댓글 데이터 \n",
        "import os\n",
        "\n",
        "if not os.path.exists('./nsmc'):\n",
        "    !git clone https://github.com/e9t/nsmc'''"
      ],
      "execution_count": null,
      "outputs": [
        {
          "output_type": "execute_result",
          "data": {
            "application/vnd.google.colaboratory.intrinsic+json": {
              "type": "string"
            },
            "text/plain": [
              "\" 네이버 영화 댓글 데이터 \\nimport os\\n\\nif not os.path.exists('./nsmc'):\\n    !git clone https://github.com/e9t/nsmc\""
            ]
          },
          "metadata": {},
          "execution_count": 4
        }
      ]
    },
    {
      "cell_type": "code",
      "metadata": {
        "colab": {
          "base_uri": "https://localhost:8080/",
          "height": 204
        },
        "id": "XTirxVyzv5dE",
        "outputId": "8ae73a00-4288-4679-b59c-e6866ea0c4af"
      },
      "source": [
        "import pandas as pd\n",
        "\n",
        "dict_from_csv = pd.read_csv('/content/여행지 테마별 분류_최종본(21.09.06).csv')\n",
        "dict_from_csv.head()\n"
      ],
      "execution_count": 115,
      "outputs": [
        {
          "output_type": "execute_result",
          "data": {
            "text/html": [
              "<div>\n",
              "<style scoped>\n",
              "    .dataframe tbody tr th:only-of-type {\n",
              "        vertical-align: middle;\n",
              "    }\n",
              "\n",
              "    .dataframe tbody tr th {\n",
              "        vertical-align: top;\n",
              "    }\n",
              "\n",
              "    .dataframe thead th {\n",
              "        text-align: right;\n",
              "    }\n",
              "</style>\n",
              "<table border=\"1\" class=\"dataframe\">\n",
              "  <thead>\n",
              "    <tr style=\"text-align: right;\">\n",
              "      <th></th>\n",
              "      <th>청정 우도에서 만난 청정 노을의 맑은 색</th>\n",
              "      <th>우도(해양도립공원)</th>\n",
              "      <th>자연</th>\n",
              "    </tr>\n",
              "  </thead>\n",
              "  <tbody>\n",
              "    <tr>\n",
              "      <th>0</th>\n",
              "      <td>보리밭을 지나다 아름다운 풍경에 홀릭 . 마침 남편의 생일을 맞아 멋진 사진을 남겨...</td>\n",
              "      <td>우도(해양도립공원)</td>\n",
              "      <td>자연</td>\n",
              "    </tr>\n",
              "    <tr>\n",
              "      <th>1</th>\n",
              "      <td>보리밭을 지나다 아름다운 풍경에 홀릭 . 마침 남편의 생일을 맞아 멋진 사진을 남겨...</td>\n",
              "      <td>우도(해양도립공원)</td>\n",
              "      <td>자연</td>\n",
              "    </tr>\n",
              "    <tr>\n",
              "      <th>2</th>\n",
              "      <td>우도섬에 봄이 왔습니다. 유채와 청보리 파란 하늘과 그보다 더 푸른섬 우도가 제주의...</td>\n",
              "      <td>우도(해양도립공원)</td>\n",
              "      <td>자연</td>\n",
              "    </tr>\n",
              "    <tr>\n",
              "      <th>3</th>\n",
              "      <td>일몰이 제일 아름답다는 우도 낮에 사람들로 가득한 우도는 마지막 배가 떠나고 나면 ...</td>\n",
              "      <td>우도(해양도립공원)</td>\n",
              "      <td>자연</td>\n",
              "    </tr>\n",
              "    <tr>\n",
              "      <th>4</th>\n",
              "      <td>세번째 제주여행 우도는 처음이였는데 너무 좋았어요</td>\n",
              "      <td>우도(해양도립공원)</td>\n",
              "      <td>자연</td>\n",
              "    </tr>\n",
              "  </tbody>\n",
              "</table>\n",
              "</div>"
            ],
            "text/plain": [
              "                              청정 우도에서 만난 청정 노을의 맑은 색  우도(해양도립공원)  자연\n",
              "0  보리밭을 지나다 아름다운 풍경에 홀릭 . 마침 남편의 생일을 맞아 멋진 사진을 남겨...  우도(해양도립공원)  자연\n",
              "1  보리밭을 지나다 아름다운 풍경에 홀릭 . 마침 남편의 생일을 맞아 멋진 사진을 남겨...  우도(해양도립공원)  자연\n",
              "2  우도섬에 봄이 왔습니다. 유채와 청보리 파란 하늘과 그보다 더 푸른섬 우도가 제주의...  우도(해양도립공원)  자연\n",
              "3  일몰이 제일 아름답다는 우도 낮에 사람들로 가득한 우도는 마지막 배가 떠나고 나면 ...  우도(해양도립공원)  자연\n",
              "4                        세번째 제주여행 우도는 처음이였는데 너무 좋았어요  우도(해양도립공원)  자연"
            ]
          },
          "metadata": {},
          "execution_count": 115
        }
      ]
    },
    {
      "cell_type": "code",
      "metadata": {
        "id": "TYlIQseBzBsd"
      },
      "source": [
        "dict_from_csv.columns=['text','name','label']"
      ],
      "execution_count": 116,
      "outputs": []
    },
    {
      "cell_type": "code",
      "metadata": {
        "colab": {
          "base_uri": "https://localhost:8080/",
          "height": 204
        },
        "id": "9iNyIUX62qeZ",
        "outputId": "d908f692-87a4-4d23-be3b-b9dcfa96cff4"
      },
      "source": [
        "dict_from_csv.head()"
      ],
      "execution_count": 117,
      "outputs": [
        {
          "output_type": "execute_result",
          "data": {
            "text/html": [
              "<div>\n",
              "<style scoped>\n",
              "    .dataframe tbody tr th:only-of-type {\n",
              "        vertical-align: middle;\n",
              "    }\n",
              "\n",
              "    .dataframe tbody tr th {\n",
              "        vertical-align: top;\n",
              "    }\n",
              "\n",
              "    .dataframe thead th {\n",
              "        text-align: right;\n",
              "    }\n",
              "</style>\n",
              "<table border=\"1\" class=\"dataframe\">\n",
              "  <thead>\n",
              "    <tr style=\"text-align: right;\">\n",
              "      <th></th>\n",
              "      <th>text</th>\n",
              "      <th>name</th>\n",
              "      <th>label</th>\n",
              "    </tr>\n",
              "  </thead>\n",
              "  <tbody>\n",
              "    <tr>\n",
              "      <th>0</th>\n",
              "      <td>보리밭을 지나다 아름다운 풍경에 홀릭 . 마침 남편의 생일을 맞아 멋진 사진을 남겨...</td>\n",
              "      <td>우도(해양도립공원)</td>\n",
              "      <td>자연</td>\n",
              "    </tr>\n",
              "    <tr>\n",
              "      <th>1</th>\n",
              "      <td>보리밭을 지나다 아름다운 풍경에 홀릭 . 마침 남편의 생일을 맞아 멋진 사진을 남겨...</td>\n",
              "      <td>우도(해양도립공원)</td>\n",
              "      <td>자연</td>\n",
              "    </tr>\n",
              "    <tr>\n",
              "      <th>2</th>\n",
              "      <td>우도섬에 봄이 왔습니다. 유채와 청보리 파란 하늘과 그보다 더 푸른섬 우도가 제주의...</td>\n",
              "      <td>우도(해양도립공원)</td>\n",
              "      <td>자연</td>\n",
              "    </tr>\n",
              "    <tr>\n",
              "      <th>3</th>\n",
              "      <td>일몰이 제일 아름답다는 우도 낮에 사람들로 가득한 우도는 마지막 배가 떠나고 나면 ...</td>\n",
              "      <td>우도(해양도립공원)</td>\n",
              "      <td>자연</td>\n",
              "    </tr>\n",
              "    <tr>\n",
              "      <th>4</th>\n",
              "      <td>세번째 제주여행 우도는 처음이였는데 너무 좋았어요</td>\n",
              "      <td>우도(해양도립공원)</td>\n",
              "      <td>자연</td>\n",
              "    </tr>\n",
              "  </tbody>\n",
              "</table>\n",
              "</div>"
            ],
            "text/plain": [
              "                                                text        name label\n",
              "0  보리밭을 지나다 아름다운 풍경에 홀릭 . 마침 남편의 생일을 맞아 멋진 사진을 남겨...  우도(해양도립공원)    자연\n",
              "1  보리밭을 지나다 아름다운 풍경에 홀릭 . 마침 남편의 생일을 맞아 멋진 사진을 남겨...  우도(해양도립공원)    자연\n",
              "2  우도섬에 봄이 왔습니다. 유채와 청보리 파란 하늘과 그보다 더 푸른섬 우도가 제주의...  우도(해양도립공원)    자연\n",
              "3  일몰이 제일 아름답다는 우도 낮에 사람들로 가득한 우도는 마지막 배가 떠나고 나면 ...  우도(해양도립공원)    자연\n",
              "4                        세번째 제주여행 우도는 처음이였는데 너무 좋았어요  우도(해양도립공원)    자연"
            ]
          },
          "metadata": {},
          "execution_count": 117
        }
      ]
    },
    {
      "cell_type": "code",
      "metadata": {
        "id": "daUEs7MiGY8A"
      },
      "source": [
        "dict_from_csv=dict_from_csv.dropna(axis=0)"
      ],
      "execution_count": 118,
      "outputs": []
    },
    {
      "cell_type": "code",
      "metadata": {
        "id": "gcOkJ2hY3Dhj"
      },
      "source": [
        "text_label=dict_from_csv[['text','label']]"
      ],
      "execution_count": 119,
      "outputs": []
    },
    {
      "cell_type": "code",
      "metadata": {
        "colab": {
          "base_uri": "https://localhost:8080/"
        },
        "id": "5q80hOp03Yvh",
        "outputId": "12a3f693-4c93-40a8-9bc2-96b8c896f80f"
      },
      "source": [
        "type(text_label['label'][0])"
      ],
      "execution_count": null,
      "outputs": [
        {
          "output_type": "execute_result",
          "data": {
            "text/plain": [
              "numpy.float64"
            ]
          },
          "metadata": {},
          "execution_count": 10
        }
      ]
    },
    {
      "cell_type": "code",
      "metadata": {
        "id": "KwmdK33U3kZJ"
      },
      "source": [
        "my_text=text_label['text'].to_list()"
      ],
      "execution_count": 120,
      "outputs": []
    },
    {
      "cell_type": "code",
      "metadata": {
        "id": "bSEd-Gko4lsh"
      },
      "source": [
        "my_label=text_label['label'].to_list()"
      ],
      "execution_count": 121,
      "outputs": []
    },
    {
      "cell_type": "code",
      "metadata": {
        "colab": {
          "base_uri": "https://localhost:8080/"
        },
        "id": "81cTRQBKIGFh",
        "outputId": "296f4aa4-fa3d-4a67-f62e-dad3599daf3c"
      },
      "source": [
        "type(my_label)"
      ],
      "execution_count": null,
      "outputs": [
        {
          "output_type": "execute_result",
          "data": {
            "text/plain": [
              "list"
            ]
          },
          "metadata": {},
          "execution_count": 11
        }
      ]
    },
    {
      "cell_type": "code",
      "metadata": {
        "colab": {
          "base_uri": "https://localhost:8080/"
        },
        "id": "5xsY558aIOHd",
        "outputId": "72250bbc-a63b-4505-ba37-8eaa641f90dc"
      },
      "source": [
        "type(text_label)"
      ],
      "execution_count": null,
      "outputs": [
        {
          "output_type": "execute_result",
          "data": {
            "text/plain": [
              "pandas.core.frame.DataFrame"
            ]
          },
          "metadata": {},
          "execution_count": 12
        }
      ]
    },
    {
      "cell_type": "code",
      "metadata": {
        "colab": {
          "base_uri": "https://localhost:8080/",
          "height": 368
        },
        "id": "bCTlm1zWIOOc",
        "outputId": "c4b6a47e-280f-4369-e6a4-058d17180ed0"
      },
      "source": [
        "text_label=text_label['label'].astype(int)"
      ],
      "execution_count": null,
      "outputs": [
        {
          "output_type": "error",
          "ename": "ValueError",
          "evalue": "ignored",
          "traceback": [
            "\u001b[0;31m---------------------------------------------------------------------------\u001b[0m",
            "\u001b[0;31mValueError\u001b[0m                                Traceback (most recent call last)",
            "\u001b[0;32m<ipython-input-15-2071dd354d41>\u001b[0m in \u001b[0;36m<module>\u001b[0;34m()\u001b[0m\n\u001b[0;32m----> 1\u001b[0;31m \u001b[0mtext_label\u001b[0m\u001b[0;34m=\u001b[0m\u001b[0mtext_label\u001b[0m\u001b[0;34m[\u001b[0m\u001b[0;34m'label'\u001b[0m\u001b[0;34m]\u001b[0m\u001b[0;34m.\u001b[0m\u001b[0mastype\u001b[0m\u001b[0;34m(\u001b[0m\u001b[0mint\u001b[0m\u001b[0;34m)\u001b[0m\u001b[0;34m\u001b[0m\u001b[0;34m\u001b[0m\u001b[0m\n\u001b[0m",
            "\u001b[0;32m/usr/local/lib/python3.7/dist-packages/pandas/core/generic.py\u001b[0m in \u001b[0;36mastype\u001b[0;34m(self, dtype, copy, errors)\u001b[0m\n\u001b[1;32m   5546\u001b[0m         \u001b[0;32melse\u001b[0m\u001b[0;34m:\u001b[0m\u001b[0;34m\u001b[0m\u001b[0;34m\u001b[0m\u001b[0m\n\u001b[1;32m   5547\u001b[0m             \u001b[0;31m# else, only a single dtype is given\u001b[0m\u001b[0;34m\u001b[0m\u001b[0;34m\u001b[0m\u001b[0;34m\u001b[0m\u001b[0m\n\u001b[0;32m-> 5548\u001b[0;31m             \u001b[0mnew_data\u001b[0m \u001b[0;34m=\u001b[0m \u001b[0mself\u001b[0m\u001b[0;34m.\u001b[0m\u001b[0m_mgr\u001b[0m\u001b[0;34m.\u001b[0m\u001b[0mastype\u001b[0m\u001b[0;34m(\u001b[0m\u001b[0mdtype\u001b[0m\u001b[0;34m=\u001b[0m\u001b[0mdtype\u001b[0m\u001b[0;34m,\u001b[0m \u001b[0mcopy\u001b[0m\u001b[0;34m=\u001b[0m\u001b[0mcopy\u001b[0m\u001b[0;34m,\u001b[0m \u001b[0merrors\u001b[0m\u001b[0;34m=\u001b[0m\u001b[0merrors\u001b[0m\u001b[0;34m,\u001b[0m\u001b[0;34m)\u001b[0m\u001b[0;34m\u001b[0m\u001b[0;34m\u001b[0m\u001b[0m\n\u001b[0m\u001b[1;32m   5549\u001b[0m             \u001b[0;32mreturn\u001b[0m \u001b[0mself\u001b[0m\u001b[0;34m.\u001b[0m\u001b[0m_constructor\u001b[0m\u001b[0;34m(\u001b[0m\u001b[0mnew_data\u001b[0m\u001b[0;34m)\u001b[0m\u001b[0;34m.\u001b[0m\u001b[0m__finalize__\u001b[0m\u001b[0;34m(\u001b[0m\u001b[0mself\u001b[0m\u001b[0;34m,\u001b[0m \u001b[0mmethod\u001b[0m\u001b[0;34m=\u001b[0m\u001b[0;34m\"astype\"\u001b[0m\u001b[0;34m)\u001b[0m\u001b[0;34m\u001b[0m\u001b[0;34m\u001b[0m\u001b[0m\n\u001b[1;32m   5550\u001b[0m \u001b[0;34m\u001b[0m\u001b[0m\n",
            "\u001b[0;32m/usr/local/lib/python3.7/dist-packages/pandas/core/internals/managers.py\u001b[0m in \u001b[0;36mastype\u001b[0;34m(self, dtype, copy, errors)\u001b[0m\n\u001b[1;32m    602\u001b[0m         \u001b[0mself\u001b[0m\u001b[0;34m,\u001b[0m \u001b[0mdtype\u001b[0m\u001b[0;34m,\u001b[0m \u001b[0mcopy\u001b[0m\u001b[0;34m:\u001b[0m \u001b[0mbool\u001b[0m \u001b[0;34m=\u001b[0m \u001b[0;32mFalse\u001b[0m\u001b[0;34m,\u001b[0m \u001b[0merrors\u001b[0m\u001b[0;34m:\u001b[0m \u001b[0mstr\u001b[0m \u001b[0;34m=\u001b[0m \u001b[0;34m\"raise\"\u001b[0m\u001b[0;34m\u001b[0m\u001b[0;34m\u001b[0m\u001b[0m\n\u001b[1;32m    603\u001b[0m     ) -> \"BlockManager\":\n\u001b[0;32m--> 604\u001b[0;31m         \u001b[0;32mreturn\u001b[0m \u001b[0mself\u001b[0m\u001b[0;34m.\u001b[0m\u001b[0mapply\u001b[0m\u001b[0;34m(\u001b[0m\u001b[0;34m\"astype\"\u001b[0m\u001b[0;34m,\u001b[0m \u001b[0mdtype\u001b[0m\u001b[0;34m=\u001b[0m\u001b[0mdtype\u001b[0m\u001b[0;34m,\u001b[0m \u001b[0mcopy\u001b[0m\u001b[0;34m=\u001b[0m\u001b[0mcopy\u001b[0m\u001b[0;34m,\u001b[0m \u001b[0merrors\u001b[0m\u001b[0;34m=\u001b[0m\u001b[0merrors\u001b[0m\u001b[0;34m)\u001b[0m\u001b[0;34m\u001b[0m\u001b[0;34m\u001b[0m\u001b[0m\n\u001b[0m\u001b[1;32m    605\u001b[0m \u001b[0;34m\u001b[0m\u001b[0m\n\u001b[1;32m    606\u001b[0m     def convert(\n",
            "\u001b[0;32m/usr/local/lib/python3.7/dist-packages/pandas/core/internals/managers.py\u001b[0m in \u001b[0;36mapply\u001b[0;34m(self, f, align_keys, **kwargs)\u001b[0m\n\u001b[1;32m    407\u001b[0m                 \u001b[0mapplied\u001b[0m \u001b[0;34m=\u001b[0m \u001b[0mb\u001b[0m\u001b[0;34m.\u001b[0m\u001b[0mapply\u001b[0m\u001b[0;34m(\u001b[0m\u001b[0mf\u001b[0m\u001b[0;34m,\u001b[0m \u001b[0;34m**\u001b[0m\u001b[0mkwargs\u001b[0m\u001b[0;34m)\u001b[0m\u001b[0;34m\u001b[0m\u001b[0;34m\u001b[0m\u001b[0m\n\u001b[1;32m    408\u001b[0m             \u001b[0;32melse\u001b[0m\u001b[0;34m:\u001b[0m\u001b[0;34m\u001b[0m\u001b[0;34m\u001b[0m\u001b[0m\n\u001b[0;32m--> 409\u001b[0;31m                 \u001b[0mapplied\u001b[0m \u001b[0;34m=\u001b[0m \u001b[0mgetattr\u001b[0m\u001b[0;34m(\u001b[0m\u001b[0mb\u001b[0m\u001b[0;34m,\u001b[0m \u001b[0mf\u001b[0m\u001b[0;34m)\u001b[0m\u001b[0;34m(\u001b[0m\u001b[0;34m**\u001b[0m\u001b[0mkwargs\u001b[0m\u001b[0;34m)\u001b[0m\u001b[0;34m\u001b[0m\u001b[0;34m\u001b[0m\u001b[0m\n\u001b[0m\u001b[1;32m    410\u001b[0m             \u001b[0mresult_blocks\u001b[0m \u001b[0;34m=\u001b[0m \u001b[0m_extend_blocks\u001b[0m\u001b[0;34m(\u001b[0m\u001b[0mapplied\u001b[0m\u001b[0;34m,\u001b[0m \u001b[0mresult_blocks\u001b[0m\u001b[0;34m)\u001b[0m\u001b[0;34m\u001b[0m\u001b[0;34m\u001b[0m\u001b[0m\n\u001b[1;32m    411\u001b[0m \u001b[0;34m\u001b[0m\u001b[0m\n",
            "\u001b[0;32m/usr/local/lib/python3.7/dist-packages/pandas/core/internals/blocks.py\u001b[0m in \u001b[0;36mastype\u001b[0;34m(self, dtype, copy, errors)\u001b[0m\n\u001b[1;32m    593\u001b[0m             \u001b[0mvals1d\u001b[0m \u001b[0;34m=\u001b[0m \u001b[0mvalues\u001b[0m\u001b[0;34m.\u001b[0m\u001b[0mravel\u001b[0m\u001b[0;34m(\u001b[0m\u001b[0;34m)\u001b[0m\u001b[0;34m\u001b[0m\u001b[0;34m\u001b[0m\u001b[0m\n\u001b[1;32m    594\u001b[0m             \u001b[0;32mtry\u001b[0m\u001b[0;34m:\u001b[0m\u001b[0;34m\u001b[0m\u001b[0;34m\u001b[0m\u001b[0m\n\u001b[0;32m--> 595\u001b[0;31m                 \u001b[0mvalues\u001b[0m \u001b[0;34m=\u001b[0m \u001b[0mastype_nansafe\u001b[0m\u001b[0;34m(\u001b[0m\u001b[0mvals1d\u001b[0m\u001b[0;34m,\u001b[0m \u001b[0mdtype\u001b[0m\u001b[0;34m,\u001b[0m \u001b[0mcopy\u001b[0m\u001b[0;34m=\u001b[0m\u001b[0;32mTrue\u001b[0m\u001b[0;34m)\u001b[0m\u001b[0;34m\u001b[0m\u001b[0;34m\u001b[0m\u001b[0m\n\u001b[0m\u001b[1;32m    596\u001b[0m             \u001b[0;32mexcept\u001b[0m \u001b[0;34m(\u001b[0m\u001b[0mValueError\u001b[0m\u001b[0;34m,\u001b[0m \u001b[0mTypeError\u001b[0m\u001b[0;34m)\u001b[0m\u001b[0;34m:\u001b[0m\u001b[0;34m\u001b[0m\u001b[0;34m\u001b[0m\u001b[0m\n\u001b[1;32m    597\u001b[0m                 \u001b[0;31m# e.g. astype_nansafe can fail on object-dtype of strings\u001b[0m\u001b[0;34m\u001b[0m\u001b[0;34m\u001b[0m\u001b[0;34m\u001b[0m\u001b[0m\n",
            "\u001b[0;32m/usr/local/lib/python3.7/dist-packages/pandas/core/dtypes/cast.py\u001b[0m in \u001b[0;36mastype_nansafe\u001b[0;34m(arr, dtype, copy, skipna)\u001b[0m\n\u001b[1;32m    972\u001b[0m         \u001b[0;31m# work around NumPy brokenness, #1987\u001b[0m\u001b[0;34m\u001b[0m\u001b[0;34m\u001b[0m\u001b[0;34m\u001b[0m\u001b[0m\n\u001b[1;32m    973\u001b[0m         \u001b[0;32mif\u001b[0m \u001b[0mnp\u001b[0m\u001b[0;34m.\u001b[0m\u001b[0missubdtype\u001b[0m\u001b[0;34m(\u001b[0m\u001b[0mdtype\u001b[0m\u001b[0;34m.\u001b[0m\u001b[0mtype\u001b[0m\u001b[0;34m,\u001b[0m \u001b[0mnp\u001b[0m\u001b[0;34m.\u001b[0m\u001b[0minteger\u001b[0m\u001b[0;34m)\u001b[0m\u001b[0;34m:\u001b[0m\u001b[0;34m\u001b[0m\u001b[0;34m\u001b[0m\u001b[0m\n\u001b[0;32m--> 974\u001b[0;31m             \u001b[0;32mreturn\u001b[0m \u001b[0mlib\u001b[0m\u001b[0;34m.\u001b[0m\u001b[0mastype_intsafe\u001b[0m\u001b[0;34m(\u001b[0m\u001b[0marr\u001b[0m\u001b[0;34m.\u001b[0m\u001b[0mravel\u001b[0m\u001b[0;34m(\u001b[0m\u001b[0;34m)\u001b[0m\u001b[0;34m,\u001b[0m \u001b[0mdtype\u001b[0m\u001b[0;34m)\u001b[0m\u001b[0;34m.\u001b[0m\u001b[0mreshape\u001b[0m\u001b[0;34m(\u001b[0m\u001b[0marr\u001b[0m\u001b[0;34m.\u001b[0m\u001b[0mshape\u001b[0m\u001b[0;34m)\u001b[0m\u001b[0;34m\u001b[0m\u001b[0;34m\u001b[0m\u001b[0m\n\u001b[0m\u001b[1;32m    975\u001b[0m \u001b[0;34m\u001b[0m\u001b[0m\n\u001b[1;32m    976\u001b[0m         \u001b[0;31m# if we have a datetime/timedelta array of objects\u001b[0m\u001b[0;34m\u001b[0m\u001b[0;34m\u001b[0m\u001b[0;34m\u001b[0m\u001b[0m\n",
            "\u001b[0;32mpandas/_libs/lib.pyx\u001b[0m in \u001b[0;36mpandas._libs.lib.astype_intsafe\u001b[0;34m()\u001b[0m\n",
            "\u001b[0;31mValueError\u001b[0m: cannot convert float NaN to integer"
          ]
        }
      ]
    },
    {
      "cell_type": "code",
      "metadata": {
        "id": "XTA5qL8G4rKr"
      },
      "source": [
        "my_train_sentences={'text':my_text, 'label':my_label}"
      ],
      "execution_count": null,
      "outputs": []
    },
    {
      "cell_type": "code",
      "metadata": {
        "colab": {
          "base_uri": "https://localhost:8080/"
        },
        "id": "3iNhN-hw4zdw",
        "outputId": "ec5e4d32-b12b-40c1-ca4d-147a17ad019e"
      },
      "source": [
        "type(my_train_sentences)"
      ],
      "execution_count": null,
      "outputs": [
        {
          "output_type": "execute_result",
          "data": {
            "text/plain": [
              "dict"
            ]
          },
          "metadata": {},
          "execution_count": 16
        }
      ]
    },
    {
      "cell_type": "code",
      "metadata": {
        "id": "1Ma_R5w_fKyy"
      },
      "source": [
        "'''네이버 영화 댓글 데이터를 댓글과 라벨로 분리\n",
        "with open('/content/nsmc/ratings_train.txt','r') as t:\n",
        "  listt =[line.split('\\t')  for line in t]\n",
        "  text = [x[1] for x in listt]\n",
        "  label = [x[2].replace('\\n','') for x in listt]\n",
        "  \n",
        "  text = text[1:]\n",
        "  label = label[1:]\n",
        "  y_train = np.array([int(x) for x in label])\n",
        "\n",
        "train_sentences = {'text': text, 'label':label}'''"
      ],
      "execution_count": null,
      "outputs": []
    },
    {
      "cell_type": "code",
      "metadata": {
        "id": "K7SlC4v08V8d",
        "colab": {
          "base_uri": "https://localhost:8080/",
          "height": 232
        },
        "outputId": "f53b5f56-7914-4f46-a707-3d2ea154cc6e"
      },
      "source": [
        "y_train=np.array([int(x) for x in my_label])"
      ],
      "execution_count": null,
      "outputs": [
        {
          "output_type": "error",
          "ename": "ValueError",
          "evalue": "ignored",
          "traceback": [
            "\u001b[0;31m---------------------------------------------------------------------------\u001b[0m",
            "\u001b[0;31mValueError\u001b[0m                                Traceback (most recent call last)",
            "\u001b[0;32m<ipython-input-10-f1b45439dfe7>\u001b[0m in \u001b[0;36m<module>\u001b[0;34m()\u001b[0m\n\u001b[0;32m----> 1\u001b[0;31m \u001b[0my_train\u001b[0m\u001b[0;34m=\u001b[0m\u001b[0mnp\u001b[0m\u001b[0;34m.\u001b[0m\u001b[0marray\u001b[0m\u001b[0;34m(\u001b[0m\u001b[0;34m[\u001b[0m\u001b[0mint\u001b[0m\u001b[0;34m(\u001b[0m\u001b[0mx\u001b[0m\u001b[0;34m)\u001b[0m \u001b[0;32mfor\u001b[0m \u001b[0mx\u001b[0m \u001b[0;32min\u001b[0m \u001b[0mmy_label\u001b[0m\u001b[0;34m]\u001b[0m\u001b[0;34m)\u001b[0m\u001b[0;34m\u001b[0m\u001b[0;34m\u001b[0m\u001b[0m\n\u001b[0m",
            "\u001b[0;32m<ipython-input-10-f1b45439dfe7>\u001b[0m in \u001b[0;36m<listcomp>\u001b[0;34m(.0)\u001b[0m\n\u001b[0;32m----> 1\u001b[0;31m \u001b[0my_train\u001b[0m\u001b[0;34m=\u001b[0m\u001b[0mnp\u001b[0m\u001b[0;34m.\u001b[0m\u001b[0marray\u001b[0m\u001b[0;34m(\u001b[0m\u001b[0;34m[\u001b[0m\u001b[0mint\u001b[0m\u001b[0;34m(\u001b[0m\u001b[0mx\u001b[0m\u001b[0;34m)\u001b[0m \u001b[0;32mfor\u001b[0m \u001b[0mx\u001b[0m \u001b[0;32min\u001b[0m \u001b[0mmy_label\u001b[0m\u001b[0;34m]\u001b[0m\u001b[0;34m)\u001b[0m\u001b[0;34m\u001b[0m\u001b[0;34m\u001b[0m\u001b[0m\n\u001b[0m",
            "\u001b[0;31mValueError\u001b[0m: cannot convert float NaN to integer"
          ]
        }
      ]
    },
    {
      "cell_type": "code",
      "metadata": {
        "id": "N-_StMlaLOOu"
      },
      "source": [
        "from sklearn.preprocessing import LabelEncoder\n",
        "encoder=LabelEncoder()\n",
        "y=encoder.fit_transform(dict_from_csv['label'])"
      ],
      "execution_count": 122,
      "outputs": []
    },
    {
      "cell_type": "code",
      "metadata": {
        "id": "w_m8pGl9OAi_"
      },
      "source": [
        "dict_from_csv['label']=y"
      ],
      "execution_count": 123,
      "outputs": []
    },
    {
      "cell_type": "code",
      "metadata": {
        "id": "L0kCZyyy9NiZ"
      },
      "source": [
        "y_train=dict_from_csv['label']"
      ],
      "execution_count": 124,
      "outputs": []
    },
    {
      "cell_type": "code",
      "metadata": {
        "colab": {
          "base_uri": "https://localhost:8080/"
        },
        "id": "UJGJtOTbfIQX",
        "outputId": "2e851283-823e-4593-ea7f-a5eead2e60f6"
      },
      "source": [
        "# 토크나이저 설정\n",
        "tokenizer = BertTokenizer.from_pretrained('bert-base-multilingual-cased')\n",
        "\n",
        "# 어휘집 생성\n",
        "word2idx = tokenizer.get_vocab()\n",
        "idx2word = {idx:word for idx, word in enumerate(word2idx)}\n",
        "\n",
        "# 데이터 예시 확인\n",
        "for idx in tokenizer.encode('뭐야 이 평점들은 나쁘진 않지만 100점 짜리는 더더욱 아니잖아'):\n",
        "    print(idx2word[idx], end=' ')"
      ],
      "execution_count": 125,
      "outputs": [
        {
          "output_type": "stream",
          "name": "stdout",
          "text": [
            "[CLS] 뭐 ##야 이 평 ##점 ##들은 나 ##쁘 ##진 않 ##지만 100 ##점 짜 ##리는 더 ##더 ##욱 [UNK] [SEP] "
          ]
        }
      ]
    },
    {
      "cell_type": "code",
      "metadata": {
        "id": "JhQMSXCzfUdj"
      },
      "source": [
        "# 인코딩\n",
        "train_encoded = tokenizer(my_text, padding=True, truncation=True, max_length=MAX_SEQUENCE_LEN, return_tensors='tf')\n",
        "\n",
        "# 인코딩된 문장\n",
        "X_train = train_encoded['input_ids']\n",
        "\n",
        "# attention mask - pad masking용 attention\n",
        "X_train_masks = train_encoded['attention_mask']"
      ],
      "execution_count": 126,
      "outputs": []
    },
    {
      "cell_type": "code",
      "metadata": {
        "colab": {
          "base_uri": "https://localhost:8080/"
        },
        "id": "tjsy3jmrfh7Q",
        "outputId": "8fba6514-bef2-4f5e-f007-9b63d51a8207"
      },
      "source": [
        "# 분류 모델 config 설정\n",
        "my_config = BertConfig.from_pretrained(\n",
        "    'bert-base-multilingual-cased',\n",
        "    num_labels=3,\n",
        "    output_hidden_states=False,      # 학습된 모든 레이어들의 hidden states의 반환 여부\n",
        "    output_attentions=False,         # 학습된 모든 attention들의 반환 여부\n",
        "    use_cache = False                # 마지막 Key/Value Attention의 반환 여부\n",
        ")                                    # 개인적인 생각으로는 config의 모든 값들은 default로 사용해도 문제 없을 것 같네요\n",
        "\n",
        "# 사전학습 모델 불러오기\n",
        "bert_model = TFBertForSequenceClassification.from_pretrained('bert-base-multilingual-cased', config=my_config)\n",
        "bert_model.trainable =False"
      ],
      "execution_count": 127,
      "outputs": [
        {
          "output_type": "stream",
          "name": "stderr",
          "text": [
            "All model checkpoint layers were used when initializing TFBertForSequenceClassification.\n",
            "\n",
            "Some layers of TFBertForSequenceClassification were not initialized from the model checkpoint at bert-base-multilingual-cased and are newly initialized: ['classifier']\n",
            "You should probably TRAIN this model on a down-stream task to be able to use it for predictions and inference.\n"
          ]
        }
      ]
    },
    {
      "cell_type": "code",
      "metadata": {
        "colab": {
          "base_uri": "https://localhost:8080/"
        },
        "id": "Y0n4RVCl2VzE",
        "outputId": "aa229e32-03e3-44d7-c03b-c2f21f79048e"
      },
      "source": [
        "# 모델 네트워크 설정 - TFBertForSequenceClassification 메소드가 tf.keras.Model을 상속받기 때문에 \n",
        "# 저희가 배운 형태로 모델 설계가 가능합니다.\n",
        "input_ids = Input(batch_shape=(None, MAX_SEQUENCE_LEN), dtype=tf.int32, name='input_ids')\n",
        "input_masks = Input(batch_shape=(None, MAX_SEQUENCE_LEN), dtype=tf.int32, name='attention_masks')\n",
        "\n",
        "embedding = bert_model(input_ids)[0] # logit값 반환"
      ],
      "execution_count": 128,
      "outputs": [
        {
          "output_type": "stream",
          "name": "stdout",
          "text": [
            "WARNING:tensorflow:The parameters `output_attentions`, `output_hidden_states` and `use_cache` cannot be updated when calling a model.They have to be set to True/False in the config object (i.e.: `config=XConfig.from_pretrained('name', output_attentions=True)`).\n",
            "WARNING:tensorflow:The parameter `return_dict` cannot be set in graph mode and will always be set to `True`.\n"
          ]
        }
      ]
    },
    {
      "cell_type": "code",
      "metadata": {
        "colab": {
          "base_uri": "https://localhost:8080/"
        },
        "id": "7Qe66TaP7b77",
        "outputId": "2104c7e0-3438-4481-c9d6-1622bb550d9b"
      },
      "source": [
        "# 모델 네트워크 설정 - TFBertForSequenceClassification 메소드가 tf.keras.Model을 상속받기 때문에 \n",
        "# 저희가 배운 형태로 모델 설계가 가능합니다.\n",
        "input_ids = Input(batch_shape=(None, MAX_SEQUENCE_LEN), dtype=tf.int32, name='input_ids')\n",
        "input_masks = Input(batch_shape=(None, MAX_SEQUENCE_LEN), dtype=tf.int32, name='attention_masks')\n",
        "\n",
        "embedding = bert_model([input_ids, input_masks])[0] # logit값 반환"
      ],
      "execution_count": 79,
      "outputs": [
        {
          "output_type": "stream",
          "name": "stdout",
          "text": [
            "WARNING:tensorflow:The parameters `output_attentions`, `output_hidden_states` and `use_cache` cannot be updated when calling a model.They have to be set to True/False in the config object (i.e.: `config=XConfig.from_pretrained('name', output_attentions=True)`).\n",
            "WARNING:tensorflow:The parameter `return_dict` cannot be set in graph mode and will always be set to `True`.\n"
          ]
        }
      ]
    },
    {
      "cell_type": "code",
      "metadata": {
        "id": "H9_1hrnj7lAB"
      },
      "source": [
        "output = layers.Dense(3, activation='softmax')(embedding) # sigmoid: 이진 분류 -> softmax 3개 class"
      ],
      "execution_count": 129,
      "outputs": []
    },
    {
      "cell_type": "code",
      "metadata": {
        "id": "qpvC1EoG2blW"
      },
      "source": [
        "# 모델 구성 및 컴파일\n",
        "model = Model(inputs=input_ids, outputs=output, name='Bert_Classification_1')\n",
        "model.compile(optimizer=tf.keras.optimizers.Adam(learning_rate=0.0001),\n",
        "              loss='sparse_categorical_crossentropy', #다중 분류 모델이라서 손실 함수 변경\n",
        "              metrics=['acc'])"
      ],
      "execution_count": 130,
      "outputs": []
    },
    {
      "cell_type": "code",
      "metadata": {
        "id": "leJDYgfqfthX"
      },
      "source": [
        "# 모델 구성 및 컴파일\n",
        "model = Model(inputs=[input_ids, input_masks], outputs=output, name='Bert_Classification_1')\n",
        "model.compile(optimizer=tf.keras.optimizers.Adam(learning_rate=0.0001),\n",
        "              loss='sparse_categorical_crossentropy', #다중 분류 모델이라서 손실 함수 변경\n",
        "              metrics=['acc'])"
      ],
      "execution_count": 81,
      "outputs": []
    },
    {
      "cell_type": "code",
      "metadata": {
        "colab": {
          "base_uri": "https://localhost:8080/"
        },
        "id": "QdSk1hyy2ftG",
        "outputId": "15326be4-daa0-4529-bea4-c3e2e52f8b78"
      },
      "source": [
        "history = model.fit(x=X_train, y=y_train,\n",
        "                 batch_size=512, validation_split=0.2,\n",
        "                 epochs=2,shuffle=True)"
      ],
      "execution_count": 157,
      "outputs": [
        {
          "output_type": "stream",
          "name": "stdout",
          "text": [
            "Epoch 1/2\n",
            "10/10 [==============================] - 82s 8s/step - loss: 1.1034 - acc: 0.2897 - val_loss: 1.0962 - val_acc: 0.4239\n",
            "Epoch 2/2\n",
            "10/10 [==============================] - 84s 9s/step - loss: 1.1022 - acc: 0.2973 - val_loss: 1.0971 - val_acc: 0.4115\n"
          ]
        }
      ]
    },
    {
      "cell_type": "code",
      "metadata": {
        "colab": {
          "base_uri": "https://localhost:8080/"
        },
        "id": "XNDELL5yfv-e",
        "outputId": "5432c706-45d5-4755-bf91-5a1d33f42647"
      },
      "source": [
        "history = model.fit(x=[X_train, X_train_masks], y=y_train,\n",
        "                 batch_size=512, validation_split=0.3,\n",
        "                 epochs=5,shuffle=True)"
      ],
      "execution_count": 83,
      "outputs": [
        {
          "output_type": "stream",
          "name": "stdout",
          "text": [
            "Epoch 1/5\n",
            "10/10 [==============================] - ETA: 0s - loss: 1.0859 - acc: 0.4744WARNING:tensorflow:The parameters `output_attentions`, `output_hidden_states` and `use_cache` cannot be updated when calling a model.They have to be set to True/False in the config object (i.e.: `config=XConfig.from_pretrained('name', output_attentions=True)`).\n",
            "WARNING:tensorflow:The parameter `return_dict` cannot be set in graph mode and will always be set to `True`.\n",
            "10/10 [==============================] - 116s 12s/step - loss: 1.0859 - acc: 0.4744 - val_loss: 1.1422 - val_acc: 0.0247\n",
            "Epoch 2/5\n",
            "10/10 [==============================] - 116s 12s/step - loss: 1.0882 - acc: 0.4532 - val_loss: 1.1432 - val_acc: 0.0230\n",
            "Epoch 3/5\n",
            "10/10 [==============================] - 116s 12s/step - loss: 1.0880 - acc: 0.4630 - val_loss: 1.1442 - val_acc: 0.0230\n",
            "Epoch 4/5\n",
            "10/10 [==============================] - 117s 12s/step - loss: 1.0862 - acc: 0.4639 - val_loss: 1.1452 - val_acc: 0.0214\n",
            "Epoch 5/5\n",
            "10/10 [==============================] - 117s 12s/step - loss: 1.0893 - acc: 0.4513 - val_loss: 1.1463 - val_acc: 0.0206\n"
          ]
        }
      ]
    },
    {
      "cell_type": "code",
      "metadata": {
        "id": "ZK2ieztVSXIA"
      },
      "source": [
        "test_data_set=pd.read_csv(\"/content/여행지_45개_테스트 데이터_test.csv\",encoding='cp949')"
      ],
      "execution_count": 158,
      "outputs": []
    },
    {
      "cell_type": "code",
      "metadata": {
        "colab": {
          "base_uri": "https://localhost:8080/",
          "height": 305
        },
        "id": "k5mxbiaftLoS",
        "outputId": "45e827e2-7e8a-4e87-a0b0-402a1bce4960"
      },
      "source": [
        "test_data_set.head()"
      ],
      "execution_count": 159,
      "outputs": [
        {
          "output_type": "execute_result",
          "data": {
            "text/html": [
              "<div>\n",
              "<style scoped>\n",
              "    .dataframe tbody tr th:only-of-type {\n",
              "        vertical-align: middle;\n",
              "    }\n",
              "\n",
              "    .dataframe tbody tr th {\n",
              "        vertical-align: top;\n",
              "    }\n",
              "\n",
              "    .dataframe thead th {\n",
              "        text-align: right;\n",
              "    }\n",
              "</style>\n",
              "<table border=\"1\" class=\"dataframe\">\n",
              "  <thead>\n",
              "    <tr style=\"text-align: right;\">\n",
              "      <th></th>\n",
              "      <th>성산 일출봉</th>\n",
              "      <th>자연</th>\n",
              "      <th>푸른 바다 사이에 우뚝 솟은 성채와 같은 모양, 봉우리 정상에 있는 거대한 사발 모양의 분화구, 그리고 그 위에서 맞이하는 일출의 장관 때문에 성산일출봉은 많은 사람들의 감흥과 탄성을 자아낸다. 성산일출봉과 어우러진 경치는 아름답고 장관이다.</th>\n",
              "    </tr>\n",
              "  </thead>\n",
              "  <tbody>\n",
              "    <tr>\n",
              "      <th>0</th>\n",
              "      <td>사려니숲길</td>\n",
              "      <td>자연</td>\n",
              "      <td>사려니숲길은 제주의 숨은 비경 31곳 중 하나로, 비자림로를 시작으로 물찻오름과 사...</td>\n",
              "    </tr>\n",
              "    <tr>\n",
              "      <th>1</th>\n",
              "      <td>협재 해수욕장</td>\n",
              "      <td>자연</td>\n",
              "      <td>투명한 물에 에메랄드빛 물감을 서서히 풀어놓은 듯한 바다빛은 보는 것만으로도 힐링이...</td>\n",
              "    </tr>\n",
              "    <tr>\n",
              "      <th>2</th>\n",
              "      <td>월정리 해변</td>\n",
              "      <td>자연</td>\n",
              "      <td>아름다운 에메랄드빛 바다가 한 폭의 그림처럼 펼쳐져 있고, 그 위에는 밝은 달이 비...</td>\n",
              "    </tr>\n",
              "    <tr>\n",
              "      <th>3</th>\n",
              "      <td>함덕 해수욕장</td>\n",
              "      <td>자연</td>\n",
              "      <td>입구부터 환영해주는 키 큰 야자수들, 하얀 모래와 대조를 이루는 에메랄드빛 바다, ...</td>\n",
              "    </tr>\n",
              "    <tr>\n",
              "      <th>4</th>\n",
              "      <td>산굼부리</td>\n",
              "      <td>자연</td>\n",
              "      <td>천연기념물 분화구이다. 이곳은 다양한 희귀식물들이 한 공간에 존재하는 '분화구 식물...</td>\n",
              "    </tr>\n",
              "  </tbody>\n",
              "</table>\n",
              "</div>"
            ],
            "text/plain": [
              "     성산 일출봉  ... 푸른 바다 사이에 우뚝 솟은 성채와 같은 모양, 봉우리 정상에 있는 거대한 사발 모양의 분화구, 그리고 그 위에서 맞이하는 일출의 장관 때문에 성산일출봉은 많은 사람들의 감흥과 탄성을 자아낸다. 성산일출봉과 어우러진 경치는 아름답고 장관이다.\n",
              "0     사려니숲길  ...  사려니숲길은 제주의 숨은 비경 31곳 중 하나로, 비자림로를 시작으로 물찻오름과 사...                                                                                     \n",
              "1   협재 해수욕장  ...  투명한 물에 에메랄드빛 물감을 서서히 풀어놓은 듯한 바다빛은 보는 것만으로도 힐링이...                                                                                     \n",
              "2    월정리 해변  ...  아름다운 에메랄드빛 바다가 한 폭의 그림처럼 펼쳐져 있고, 그 위에는 밝은 달이 비...                                                                                     \n",
              "3  함덕 해수욕장   ...  입구부터 환영해주는 키 큰 야자수들, 하얀 모래와 대조를 이루는 에메랄드빛 바다, ...                                                                                     \n",
              "4      산굼부리  ...  천연기념물 분화구이다. 이곳은 다양한 희귀식물들이 한 공간에 존재하는 '분화구 식물...                                                                                     \n",
              "\n",
              "[5 rows x 3 columns]"
            ]
          },
          "metadata": {},
          "execution_count": 159
        }
      ]
    },
    {
      "cell_type": "code",
      "metadata": {
        "id": "Of8xhYCItOXh"
      },
      "source": [
        ""
      ],
      "execution_count": null,
      "outputs": []
    },
    {
      "cell_type": "code",
      "metadata": {
        "id": "GNQrVLXcS6J1"
      },
      "source": [
        "test_data_set.columns=['name','label','text']"
      ],
      "execution_count": 160,
      "outputs": []
    },
    {
      "cell_type": "code",
      "metadata": {
        "id": "nRF3tmNhS8aY"
      },
      "source": [
        "y=encoder.transform(test_data_set['label'])"
      ],
      "execution_count": 161,
      "outputs": []
    },
    {
      "cell_type": "code",
      "metadata": {
        "id": "Bw0XeYY6S-UI"
      },
      "source": [
        "test_data_set['label']=y"
      ],
      "execution_count": 162,
      "outputs": []
    },
    {
      "cell_type": "code",
      "metadata": {
        "id": "aojzh-UFTAGv"
      },
      "source": [
        "my_text_1=test_data_set['text'].to_list()\n",
        "my_label_1=test_data_set['label'].to_list()\n",
        "\n",
        "\n",
        "y_test=test_data_set['label']"
      ],
      "execution_count": 163,
      "outputs": []
    },
    {
      "cell_type": "code",
      "metadata": {
        "id": "v63JdsI7TCX0"
      },
      "source": [
        "# 인코딩\n",
        "test_encoded = tokenizer(my_text_1, padding=True, truncation=True, max_length=MAX_SEQUENCE_LEN, return_tensors='tf')\n",
        "\n",
        "# 인코딩된 문장\n",
        "X_test = test_encoded['input_ids']\n",
        "\n",
        "X_test_masks = test_encoded['attention_mask']"
      ],
      "execution_count": 164,
      "outputs": []
    },
    {
      "cell_type": "code",
      "metadata": {
        "colab": {
          "base_uri": "https://localhost:8080/"
        },
        "id": "zvC0k-me4W9Z",
        "outputId": "609a35a0-c927-4c16-f216-31f790bb49de"
      },
      "source": [
        "loss, acc = model.evaluate(x=X_test, y = y_test)"
      ],
      "execution_count": 165,
      "outputs": [
        {
          "output_type": "stream",
          "name": "stdout",
          "text": [
            "2/2 [==============================] - 1s 184ms/step - loss: 1.0930 - acc: 0.4773\n"
          ]
        }
      ]
    },
    {
      "cell_type": "code",
      "metadata": {
        "colab": {
          "base_uri": "https://localhost:8080/"
        },
        "id": "nfgu1NMX4a6s",
        "outputId": "188517c5-dcc2-4526-9361-afdc522afcea"
      },
      "source": [
        "pre=model.predict(x=X_test)\n",
        "pre"
      ],
      "execution_count": 140,
      "outputs": [
        {
          "output_type": "stream",
          "name": "stdout",
          "text": [
            "WARNING:tensorflow:The parameters `output_attentions`, `output_hidden_states` and `use_cache` cannot be updated when calling a model.They have to be set to True/False in the config object (i.e.: `config=XConfig.from_pretrained('name', output_attentions=True)`).\n",
            "WARNING:tensorflow:The parameter `return_dict` cannot be set in graph mode and will always be set to `True`.\n"
          ]
        },
        {
          "output_type": "execute_result",
          "data": {
            "text/plain": [
              "array([[0.3331525 , 0.33126286, 0.33558464],\n",
              "       [0.33363795, 0.32984748, 0.33651456],\n",
              "       [0.3286995 , 0.33310014, 0.3382003 ],\n",
              "       [0.31551412, 0.33760297, 0.3468829 ],\n",
              "       [0.32364997, 0.33537355, 0.34097648],\n",
              "       [0.33622897, 0.3318464 , 0.33192465],\n",
              "       [0.33654726, 0.32895738, 0.33449537],\n",
              "       [0.34330508, 0.33067384, 0.32602105],\n",
              "       [0.34070736, 0.33013335, 0.32915926],\n",
              "       [0.34127685, 0.32988045, 0.32884273],\n",
              "       [0.339133  , 0.33368227, 0.32718474],\n",
              "       [0.34057468, 0.3301567 , 0.3292686 ],\n",
              "       [0.3307746 , 0.33144122, 0.33778423],\n",
              "       [0.3298376 , 0.3310262 , 0.3391362 ],\n",
              "       [0.34325847, 0.33035058, 0.32639092],\n",
              "       [0.34013274, 0.3312128 , 0.32865447],\n",
              "       [0.34387434, 0.33045387, 0.32567182],\n",
              "       [0.33603057, 0.3302408 , 0.3337287 ],\n",
              "       [0.3363732 , 0.3348522 , 0.3287746 ],\n",
              "       [0.34501332, 0.33153072, 0.323456  ],\n",
              "       [0.3454402 , 0.33137128, 0.3231885 ],\n",
              "       [0.34232613, 0.33198822, 0.32568568],\n",
              "       [0.33801106, 0.33215827, 0.32983074],\n",
              "       [0.34409708, 0.332189  , 0.3237139 ],\n",
              "       [0.3400317 , 0.33016163, 0.3298067 ],\n",
              "       [0.34299543, 0.32986093, 0.3271436 ],\n",
              "       [0.33356702, 0.3302889 , 0.33614412],\n",
              "       [0.33433872, 0.33026734, 0.33539397],\n",
              "       [0.336142  , 0.33204606, 0.3318119 ],\n",
              "       [0.33734012, 0.3322252 , 0.33043465],\n",
              "       [0.33958226, 0.33092687, 0.32949084],\n",
              "       [0.3324849 , 0.3314978 , 0.3360173 ],\n",
              "       [0.34528235, 0.32577533, 0.32894233],\n",
              "       [0.33242166, 0.3324692 , 0.33510917],\n",
              "       [0.34099144, 0.33251256, 0.326496  ],\n",
              "       [0.33675888, 0.3320335 , 0.33120763],\n",
              "       [0.34018105, 0.33111456, 0.32870436],\n",
              "       [0.3347798 , 0.33378175, 0.33143845],\n",
              "       [0.33455175, 0.3354987 , 0.32994953],\n",
              "       [0.34195155, 0.32958803, 0.3284604 ],\n",
              "       [0.33666405, 0.3304623 , 0.33287367],\n",
              "       [0.33701503, 0.3288858 , 0.3340992 ],\n",
              "       [0.3429171 , 0.33091396, 0.32616892],\n",
              "       [0.34292215, 0.33102065, 0.32605723]], dtype=float32)"
            ]
          },
          "metadata": {},
          "execution_count": 140
        }
      ]
    },
    {
      "cell_type": "code",
      "metadata": {
        "id": "ZkOe9yDk4fID"
      },
      "source": [
        ""
      ],
      "execution_count": null,
      "outputs": []
    },
    {
      "cell_type": "code",
      "metadata": {
        "colab": {
          "base_uri": "https://localhost:8080/"
        },
        "id": "FPfn4sqOTDdR",
        "outputId": "9cc70441-55b7-4cc4-8e4b-a2534c3e0b15"
      },
      "source": [
        "loss, acc = model.evaluate(x=[X_test,X_test_masks], y = y_test)"
      ],
      "execution_count": 111,
      "outputs": [
        {
          "output_type": "stream",
          "name": "stdout",
          "text": [
            "2/2 [==============================] - 1s 222ms/step - loss: 1.1062 - acc: 0.3182\n"
          ]
        }
      ]
    },
    {
      "cell_type": "code",
      "metadata": {
        "colab": {
          "base_uri": "https://localhost:8080/"
        },
        "id": "Hoaprpyg0U4j",
        "outputId": "38a84d8f-744e-4bb2-b6d5-7631f184800d"
      },
      "source": [
        "pre=model.predict(x=[X_test,X_test_masks])\n",
        "pre"
      ],
      "execution_count": 112,
      "outputs": [
        {
          "output_type": "execute_result",
          "data": {
            "text/plain": [
              "array([[0.3087333 , 0.3323418 , 0.35892487],\n",
              "       [0.3151375 , 0.3340761 , 0.35078642],\n",
              "       [0.31668487, 0.33020929, 0.35310587],\n",
              "       [0.3135664 , 0.32886854, 0.35756508],\n",
              "       [0.30926964, 0.3395127 , 0.3512177 ],\n",
              "       [0.31473362, 0.33527943, 0.34998697],\n",
              "       [0.32041347, 0.32550034, 0.35408616],\n",
              "       [0.30864522, 0.33379295, 0.35756183],\n",
              "       [0.3143    , 0.33102426, 0.3546757 ],\n",
              "       [0.30630004, 0.33403483, 0.3596652 ],\n",
              "       [0.3169337 , 0.33051232, 0.352554  ],\n",
              "       [0.3215223 , 0.33063573, 0.34784195],\n",
              "       [0.31598783, 0.33022088, 0.3537913 ],\n",
              "       [0.30842137, 0.33680406, 0.35477456],\n",
              "       [0.30461898, 0.33537337, 0.36000767],\n",
              "       [0.30315417, 0.33615807, 0.36068773],\n",
              "       [0.31274873, 0.33099142, 0.35625985],\n",
              "       [0.31316775, 0.3364734 , 0.35035887],\n",
              "       [0.314339  , 0.33336926, 0.3522917 ],\n",
              "       [0.29635584, 0.34073037, 0.3629138 ],\n",
              "       [0.29174814, 0.34457117, 0.36368066],\n",
              "       [0.3055133 , 0.33602443, 0.35846224],\n",
              "       [0.30272874, 0.33488134, 0.3623899 ],\n",
              "       [0.3156654 , 0.33203325, 0.35230136],\n",
              "       [0.30309632, 0.33601442, 0.3608893 ],\n",
              "       [0.30660436, 0.3347846 , 0.35861102],\n",
              "       [0.31643325, 0.3263581 , 0.3572086 ],\n",
              "       [0.3160581 , 0.33431455, 0.34962738],\n",
              "       [0.30826575, 0.33201912, 0.35971516],\n",
              "       [0.32020366, 0.32819122, 0.3516051 ],\n",
              "       [0.30091363, 0.33623356, 0.36285278],\n",
              "       [0.3261736 , 0.32820845, 0.34561795],\n",
              "       [0.31302962, 0.32877302, 0.3581974 ],\n",
              "       [0.30488276, 0.33920735, 0.35590988],\n",
              "       [0.3121172 , 0.33959115, 0.3482917 ],\n",
              "       [0.30747566, 0.3331278 , 0.35939652],\n",
              "       [0.31584597, 0.32866752, 0.35548654],\n",
              "       [0.31044015, 0.33295825, 0.35660163],\n",
              "       [0.302168  , 0.33685777, 0.36097422],\n",
              "       [0.31053147, 0.3376646 , 0.35180396],\n",
              "       [0.30326334, 0.33634657, 0.36039013],\n",
              "       [0.3049565 , 0.33629018, 0.3587533 ],\n",
              "       [0.31197113, 0.33272308, 0.35530576],\n",
              "       [0.3034042 , 0.34030578, 0.35629   ]], dtype=float32)"
            ]
          },
          "metadata": {},
          "execution_count": 112
        }
      ]
    },
    {
      "cell_type": "code",
      "metadata": {
        "id": "Ta44vJ_wUieC"
      },
      "source": [
        "from tensorflow.keras.preprocessing import sequence"
      ],
      "execution_count": null,
      "outputs": []
    },
    {
      "cell_type": "code",
      "metadata": {
        "id": "oE3MR2Ngi4ZO"
      },
      "source": [
        "# softmax 값 뽑아내는 코드 참고용\n",
        "\n",
        "def infer(x):\n",
        "    temp = tokenizer(x, padding=True, truncation=True, max_length=100, return_tensors='tf')\n",
        "    temp_ids = sequence.pad_sequences(temp['input_ids'], 100)\n",
        "    temp_mask = sequence.pad_sequences(temp['attention_mask'], 100)\n",
        "\n",
        "    return tf.keras.activations.sigmoid(\n",
        "        model([temp_ids, temp_mask]\n",
        "    ))"
      ],
      "execution_count": null,
      "outputs": []
    }
  ]
}