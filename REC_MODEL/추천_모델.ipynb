{
  "nbformat": 4,
  "nbformat_minor": 0,
  "metadata": {
    "colab": {
      "name": "추천 모델.ipynb",
      "provenance": [],
      "collapsed_sections": []
    },
    "kernelspec": {
      "name": "python3",
      "display_name": "Python 3"
    },
    "language_info": {
      "name": "python"
    }
  },
  "cells": [
    {
      "cell_type": "code",
      "metadata": {
        "id": "reIta93jQaNl"
      },
      "source": [
        "import matplotlib.pyplot as plt\n",
        "import pandas as pd\n",
        "\n",
        "import tensorflow as tf\n",
        "from tensorflow.keras import layers, models"
      ],
      "execution_count": 97,
      "outputs": []
    },
    {
      "cell_type": "code",
      "metadata": {
        "id": "J5LRYmxVHRLI"
      },
      "source": [
        "data = pd.read_csv('/content/추천모델 학습 데이터_1.csv')"
      ],
      "execution_count": 98,
      "outputs": []
    },
    {
      "cell_type": "code",
      "metadata": {
        "id": "_faSl_OhuMtf"
      },
      "source": [
        "# 데이터 복사\n",
        "tmp = data.copy()"
      ],
      "execution_count": 99,
      "outputs": []
    },
    {
      "cell_type": "code",
      "metadata": {
        "colab": {
          "base_uri": "https://localhost:8080/",
          "height": 339
        },
        "id": "6xOX5YpHNGrj",
        "outputId": "7fc2b794-7bc7-465d-efcd-12248476566c"
      },
      "source": [
        "tmp.head()"
      ],
      "execution_count": 100,
      "outputs": [
        {
          "output_type": "execute_result",
          "data": {
            "text/html": [
              "<div>\n",
              "<style scoped>\n",
              "    .dataframe tbody tr th:only-of-type {\n",
              "        vertical-align: middle;\n",
              "    }\n",
              "\n",
              "    .dataframe tbody tr th {\n",
              "        vertical-align: top;\n",
              "    }\n",
              "\n",
              "    .dataframe thead th {\n",
              "        text-align: right;\n",
              "    }\n",
              "</style>\n",
              "<table border=\"1\" class=\"dataframe\">\n",
              "  <thead>\n",
              "    <tr style=\"text-align: right;\">\n",
              "      <th></th>\n",
              "      <th>Index</th>\n",
              "      <th>1</th>\n",
              "      <th>2</th>\n",
              "      <th>3</th>\n",
              "      <th>4</th>\n",
              "      <th>5</th>\n",
              "      <th>6</th>\n",
              "      <th>7</th>\n",
              "      <th>8</th>\n",
              "      <th>9</th>\n",
              "      <th>10</th>\n",
              "      <th>11</th>\n",
              "      <th>12</th>\n",
              "      <th>13</th>\n",
              "      <th>14</th>\n",
              "      <th>15</th>\n",
              "      <th>16</th>\n",
              "      <th>17</th>\n",
              "      <th>18</th>\n",
              "      <th>feeling</th>\n",
              "      <th>place</th>\n",
              "      <th>Unnamed: 21</th>\n",
              "      <th>Unnamed: 22</th>\n",
              "      <th>Unnamed: 23</th>\n",
              "      <th>von</th>\n",
              "      <th>Unnamed: 25</th>\n",
              "      <th>von.1</th>\n",
              "      <th>Unnamed: 27</th>\n",
              "    </tr>\n",
              "  </thead>\n",
              "  <tbody>\n",
              "    <tr>\n",
              "      <th>0</th>\n",
              "      <td>1.0</td>\n",
              "      <td>4.0</td>\n",
              "      <td>2.0</td>\n",
              "      <td>2.0</td>\n",
              "      <td>3.0</td>\n",
              "      <td>4.0</td>\n",
              "      <td>4.0</td>\n",
              "      <td>3.0</td>\n",
              "      <td>4.0</td>\n",
              "      <td>4.0</td>\n",
              "      <td>3.0</td>\n",
              "      <td>4.0</td>\n",
              "      <td>3.0</td>\n",
              "      <td>4.0</td>\n",
              "      <td>4.0</td>\n",
              "      <td>2.0</td>\n",
              "      <td>4.0</td>\n",
              "      <td>4.0</td>\n",
              "      <td>4.0</td>\n",
              "      <td>happy</td>\n",
              "      <td>성산일출봉</td>\n",
              "      <td>0.327038</td>\n",
              "      <td>0.407812</td>\n",
              "      <td>0.265149</td>\n",
              "      <td>0.0</td>\n",
              "      <td>NaN</td>\n",
              "      <td>0.0</td>\n",
              "      <td>여행하고 싶다</td>\n",
              "    </tr>\n",
              "    <tr>\n",
              "      <th>1</th>\n",
              "      <td>2.0</td>\n",
              "      <td>4.0</td>\n",
              "      <td>2.0</td>\n",
              "      <td>2.0</td>\n",
              "      <td>3.0</td>\n",
              "      <td>4.0</td>\n",
              "      <td>4.0</td>\n",
              "      <td>3.0</td>\n",
              "      <td>4.0</td>\n",
              "      <td>4.0</td>\n",
              "      <td>3.0</td>\n",
              "      <td>4.0</td>\n",
              "      <td>3.0</td>\n",
              "      <td>4.0</td>\n",
              "      <td>4.0</td>\n",
              "      <td>2.0</td>\n",
              "      <td>4.0</td>\n",
              "      <td>4.0</td>\n",
              "      <td>4.0</td>\n",
              "      <td>happy</td>\n",
              "      <td>사려니숲길</td>\n",
              "      <td>0.354847</td>\n",
              "      <td>0.383651</td>\n",
              "      <td>0.261502</td>\n",
              "      <td>0.0</td>\n",
              "      <td>NaN</td>\n",
              "      <td>1.0</td>\n",
              "      <td>여행하고 싶지 않다.</td>\n",
              "    </tr>\n",
              "    <tr>\n",
              "      <th>2</th>\n",
              "      <td>3.0</td>\n",
              "      <td>4.0</td>\n",
              "      <td>2.0</td>\n",
              "      <td>2.0</td>\n",
              "      <td>3.0</td>\n",
              "      <td>4.0</td>\n",
              "      <td>4.0</td>\n",
              "      <td>3.0</td>\n",
              "      <td>4.0</td>\n",
              "      <td>4.0</td>\n",
              "      <td>3.0</td>\n",
              "      <td>4.0</td>\n",
              "      <td>3.0</td>\n",
              "      <td>4.0</td>\n",
              "      <td>4.0</td>\n",
              "      <td>2.0</td>\n",
              "      <td>4.0</td>\n",
              "      <td>4.0</td>\n",
              "      <td>4.0</td>\n",
              "      <td>happy</td>\n",
              "      <td>협재 해수욕장</td>\n",
              "      <td>0.318122</td>\n",
              "      <td>0.415449</td>\n",
              "      <td>0.266429</td>\n",
              "      <td>0.0</td>\n",
              "      <td>NaN</td>\n",
              "      <td>NaN</td>\n",
              "      <td>NaN</td>\n",
              "    </tr>\n",
              "    <tr>\n",
              "      <th>3</th>\n",
              "      <td>4.0</td>\n",
              "      <td>4.0</td>\n",
              "      <td>2.0</td>\n",
              "      <td>2.0</td>\n",
              "      <td>3.0</td>\n",
              "      <td>4.0</td>\n",
              "      <td>4.0</td>\n",
              "      <td>3.0</td>\n",
              "      <td>4.0</td>\n",
              "      <td>4.0</td>\n",
              "      <td>3.0</td>\n",
              "      <td>4.0</td>\n",
              "      <td>3.0</td>\n",
              "      <td>4.0</td>\n",
              "      <td>4.0</td>\n",
              "      <td>2.0</td>\n",
              "      <td>4.0</td>\n",
              "      <td>4.0</td>\n",
              "      <td>4.0</td>\n",
              "      <td>happy</td>\n",
              "      <td>월정리 해변</td>\n",
              "      <td>0.319874</td>\n",
              "      <td>0.419289</td>\n",
              "      <td>0.260837</td>\n",
              "      <td>0.0</td>\n",
              "      <td>NaN</td>\n",
              "      <td>NaN</td>\n",
              "      <td>NaN</td>\n",
              "    </tr>\n",
              "    <tr>\n",
              "      <th>4</th>\n",
              "      <td>5.0</td>\n",
              "      <td>4.0</td>\n",
              "      <td>2.0</td>\n",
              "      <td>2.0</td>\n",
              "      <td>3.0</td>\n",
              "      <td>4.0</td>\n",
              "      <td>4.0</td>\n",
              "      <td>3.0</td>\n",
              "      <td>4.0</td>\n",
              "      <td>4.0</td>\n",
              "      <td>3.0</td>\n",
              "      <td>4.0</td>\n",
              "      <td>3.0</td>\n",
              "      <td>4.0</td>\n",
              "      <td>4.0</td>\n",
              "      <td>2.0</td>\n",
              "      <td>4.0</td>\n",
              "      <td>4.0</td>\n",
              "      <td>4.0</td>\n",
              "      <td>happy</td>\n",
              "      <td>함덕 해수욕장</td>\n",
              "      <td>0.303036</td>\n",
              "      <td>0.444768</td>\n",
              "      <td>0.252196</td>\n",
              "      <td>0.0</td>\n",
              "      <td>NaN</td>\n",
              "      <td>NaN</td>\n",
              "      <td>NaN</td>\n",
              "    </tr>\n",
              "  </tbody>\n",
              "</table>\n",
              "</div>"
            ],
            "text/plain": [
              "   Index    1    2    3    4  ...  Unnamed: 23  von  Unnamed: 25  von.1  Unnamed: 27\n",
              "0    1.0  4.0  2.0  2.0  3.0  ...     0.265149  0.0          NaN    0.0      여행하고 싶다\n",
              "1    2.0  4.0  2.0  2.0  3.0  ...     0.261502  0.0          NaN    1.0  여행하고 싶지 않다.\n",
              "2    3.0  4.0  2.0  2.0  3.0  ...     0.266429  0.0          NaN    NaN          NaN\n",
              "3    4.0  4.0  2.0  2.0  3.0  ...     0.260837  0.0          NaN    NaN          NaN\n",
              "4    5.0  4.0  2.0  2.0  3.0  ...     0.252196  0.0          NaN    NaN          NaN\n",
              "\n",
              "[5 rows x 28 columns]"
            ]
          },
          "metadata": {},
          "execution_count": 100
        }
      ]
    },
    {
      "cell_type": "code",
      "metadata": {
        "id": "vBUnwgKOFxng"
      },
      "source": [
        "tmp=tmp.drop(columns=['Unnamed: 25', 'von.1','Unnamed: 27'])"
      ],
      "execution_count": 101,
      "outputs": []
    },
    {
      "cell_type": "code",
      "metadata": {
        "id": "QTnTOoMPe1E-"
      },
      "source": [
        "# 데이터 전처리\n",
        "feeling = tmp['feeling'].unique()\n",
        "place = data['place'].unique()\n",
        "von = data['von'].unique()"
      ],
      "execution_count": 102,
      "outputs": []
    },
    {
      "cell_type": "code",
      "metadata": {
        "colab": {
          "base_uri": "https://localhost:8080/"
        },
        "id": "XHZbc15uux0O",
        "outputId": "75829858-0e30-4acc-fa3f-bd0432e41f0f"
      },
      "source": [
        "print(feeling)\n",
        "print(place)\n",
        "print(von)"
      ],
      "execution_count": 103,
      "outputs": [
        {
          "output_type": "stream",
          "name": "stdout",
          "text": [
            "['happy' 'angry' 'sad' 'neutral' nan]\n",
            "[' 성산일출봉' ' 사려니숲길' ' 협재 해수욕장' ' 월정리 해변' ' 함덕 해수욕장' ' 산굼부리' ' 섭지코지'\n",
            " ' 한라산국립공원' ' 비자림' ' 천지연폭포' ' 용머리해안' ' 용두암' ' 마라도' ' 우도' ' 가파도' ' 제주돌문화공원'\n",
            " ' 삼성혈' ' 추사관' ' 제주목관아' ' 선운정사' ' 김영갑갤러리두모악' ' 이중섭거리' ' 관덕정' ' 너븐숭이4.3기념관'\n",
            " ' 제주민속촌' ' 항파두리항몽유적지' ' 성읍마을' ' 제주세계자연유산센터' ' 제주민속자연사박물관' ' 제주4.3평화공원'\n",
            " ' 아침미소목장' ' 제주레일바이크' ' 서귀포잠수함' ' 아날로그감귤밭' ' 피시픽리솜 요트투어' ' 제주레포츠랜드'\n",
            " ' 월정리 카약 체험' ' 제주김녕미로공원' ' 에코랜드' ' 테디베어박물관' ' 아쿠아플라넷' ' 수월봉 지질트레일'\n",
            " ' 오설록티뮤지엄' ' 제주유리의성' ' 제주더마파크' nan]\n",
            "[ 0.  1. nan]\n"
          ]
        }
      ]
    },
    {
      "cell_type": "code",
      "metadata": {
        "colab": {
          "base_uri": "https://localhost:8080/"
        },
        "id": "WGhjq6GzFpYq",
        "outputId": "a1eb5233-56c5-4c78-e662-2375517c4f70"
      },
      "source": [
        "print(len(place))"
      ],
      "execution_count": 73,
      "outputs": [
        {
          "output_type": "stream",
          "name": "stdout",
          "text": [
            "46\n"
          ]
        }
      ]
    },
    {
      "cell_type": "code",
      "metadata": {
        "colab": {
          "base_uri": "https://localhost:8080/"
        },
        "id": "E_M0agl9HTnT",
        "outputId": "2dc26c84-ae2e-4c01-ffdf-2e32383a7f53"
      },
      "source": [
        "print(tmp.isnull())"
      ],
      "execution_count": 104,
      "outputs": [
        {
          "output_type": "stream",
          "name": "stdout",
          "text": [
            "      Index      1      2      3  ...  Unnamed: 21  Unnamed: 22  Unnamed: 23    von\n",
            "0     False  False  False  False  ...        False        False        False  False\n",
            "1     False  False  False  False  ...        False        False        False  False\n",
            "2     False  False  False  False  ...        False        False        False  False\n",
            "3     False  False  False  False  ...        False        False        False  False\n",
            "4     False  False  False  False  ...        False        False        False  False\n",
            "...     ...    ...    ...    ...  ...          ...          ...          ...    ...\n",
            "4136  False  False  False  False  ...        False        False        False  False\n",
            "4137  False  False  False  False  ...        False        False        False  False\n",
            "4138  False  False  False  False  ...        False        False        False  False\n",
            "4139  False  False  False  False  ...        False        False        False  False\n",
            "4140   True   True   True   True  ...         True         True         True   True\n",
            "\n",
            "[4141 rows x 25 columns]\n"
          ]
        }
      ]
    },
    {
      "cell_type": "code",
      "metadata": {
        "id": "FKyO_kjwLMj3"
      },
      "source": [
        "tmp=tmp.dropna()"
      ],
      "execution_count": 105,
      "outputs": []
    },
    {
      "cell_type": "code",
      "metadata": {
        "colab": {
          "base_uri": "https://localhost:8080/"
        },
        "id": "0M6EiqOcLfa9",
        "outputId": "20785515-9165-4a64-be6c-5b94fab07c9d"
      },
      "source": [
        "print(tmp.isnull())"
      ],
      "execution_count": 116,
      "outputs": [
        {
          "output_type": "stream",
          "name": "stdout",
          "text": [
            "      Index      1      2      3  ...  Unnamed: 21  Unnamed: 22  Unnamed: 23    von\n",
            "0     False  False  False  False  ...        False        False        False  False\n",
            "1     False  False  False  False  ...        False        False        False  False\n",
            "2     False  False  False  False  ...        False        False        False  False\n",
            "3     False  False  False  False  ...        False        False        False  False\n",
            "4     False  False  False  False  ...        False        False        False  False\n",
            "...     ...    ...    ...    ...  ...          ...          ...          ...    ...\n",
            "4135  False  False  False  False  ...        False        False        False  False\n",
            "4136  False  False  False  False  ...        False        False        False  False\n",
            "4137  False  False  False  False  ...        False        False        False  False\n",
            "4138  False  False  False  False  ...        False        False        False  False\n",
            "4139  False  False  False  False  ...        False        False        False  False\n",
            "\n",
            "[4140 rows x 25 columns]\n"
          ]
        }
      ]
    },
    {
      "cell_type": "code",
      "metadata": {
        "id": "KzbmQwHqLiib"
      },
      "source": [
        "feeling = tmp['feeling'].unique()\n",
        "place = data['place'].unique()\n",
        "von = data['von'].unique()\n"
      ],
      "execution_count": 114,
      "outputs": []
    },
    {
      "cell_type": "code",
      "metadata": {
        "colab": {
          "base_uri": "https://localhost:8080/"
        },
        "id": "tvW4xxRCH0uy",
        "outputId": "a5128d87-bb51-49f5-a028-e9d677a0e933"
      },
      "source": [
        "print(feeling)\n",
        "print(place)\n",
        "print(von)"
      ],
      "execution_count": 115,
      "outputs": [
        {
          "output_type": "stream",
          "name": "stdout",
          "text": [
            "['happy' 'angry' 'sad' 'neutral']\n",
            "[' 성산일출봉' ' 사려니숲길' ' 협재 해수욕장' ' 월정리 해변' ' 함덕 해수욕장' ' 산굼부리' ' 섭지코지'\n",
            " ' 한라산국립공원' ' 비자림' ' 천지연폭포' ' 용머리해안' ' 용두암' ' 마라도' ' 우도' ' 가파도' ' 제주돌문화공원'\n",
            " ' 삼성혈' ' 추사관' ' 제주목관아' ' 선운정사' ' 김영갑갤러리두모악' ' 이중섭거리' ' 관덕정' ' 너븐숭이4.3기념관'\n",
            " ' 제주민속촌' ' 항파두리항몽유적지' ' 성읍마을' ' 제주세계자연유산센터' ' 제주민속자연사박물관' ' 제주4.3평화공원'\n",
            " ' 아침미소목장' ' 제주레일바이크' ' 서귀포잠수함' ' 아날로그감귤밭' ' 피시픽리솜 요트투어' ' 제주레포츠랜드'\n",
            " ' 월정리 카약 체험' ' 제주김녕미로공원' ' 에코랜드' ' 테디베어박물관' ' 아쿠아플라넷' ' 수월봉 지질트레일'\n",
            " ' 오설록티뮤지엄' ' 제주유리의성' ' 제주더마파크' nan]\n",
            "[ 0.  1. nan]\n"
          ]
        }
      ]
    },
    {
      "cell_type": "code",
      "metadata": {
        "colab": {
          "base_uri": "https://localhost:8080/"
        },
        "id": "88xXxi35H0j5",
        "outputId": "88cf4e85-1e57-46a8-edad-fea5541a9c1c"
      },
      "source": [
        "print(tmp.isnull())"
      ],
      "execution_count": 117,
      "outputs": [
        {
          "output_type": "stream",
          "name": "stdout",
          "text": [
            "      Index      1      2      3  ...  Unnamed: 21  Unnamed: 22  Unnamed: 23    von\n",
            "0     False  False  False  False  ...        False        False        False  False\n",
            "1     False  False  False  False  ...        False        False        False  False\n",
            "2     False  False  False  False  ...        False        False        False  False\n",
            "3     False  False  False  False  ...        False        False        False  False\n",
            "4     False  False  False  False  ...        False        False        False  False\n",
            "...     ...    ...    ...    ...  ...          ...          ...          ...    ...\n",
            "4135  False  False  False  False  ...        False        False        False  False\n",
            "4136  False  False  False  False  ...        False        False        False  False\n",
            "4137  False  False  False  False  ...        False        False        False  False\n",
            "4138  False  False  False  False  ...        False        False        False  False\n",
            "4139  False  False  False  False  ...        False        False        False  False\n",
            "\n",
            "[4140 rows x 25 columns]\n"
          ]
        }
      ]
    },
    {
      "cell_type": "code",
      "metadata": {
        "colab": {
          "base_uri": "https://localhost:8080/"
        },
        "id": "RTlO79ruH0g9",
        "outputId": "1d31b288-e18a-4581-bba0-5f6499549c18"
      },
      "source": [
        "feeling = tmp['feeling'].unique()\n",
        "place = tmp['place'].unique()\n",
        "von = tmp['von'].unique()\n",
        "print(feeling)\n",
        "print(place)\n",
        "print(von)"
      ],
      "execution_count": 119,
      "outputs": [
        {
          "output_type": "stream",
          "name": "stdout",
          "text": [
            "['happy' 'angry' 'sad' 'neutral']\n",
            "[' 성산일출봉' ' 사려니숲길' ' 협재 해수욕장' ' 월정리 해변' ' 함덕 해수욕장' ' 산굼부리' ' 섭지코지'\n",
            " ' 한라산국립공원' ' 비자림' ' 천지연폭포' ' 용머리해안' ' 용두암' ' 마라도' ' 우도' ' 가파도' ' 제주돌문화공원'\n",
            " ' 삼성혈' ' 추사관' ' 제주목관아' ' 선운정사' ' 김영갑갤러리두모악' ' 이중섭거리' ' 관덕정' ' 너븐숭이4.3기념관'\n",
            " ' 제주민속촌' ' 항파두리항몽유적지' ' 성읍마을' ' 제주세계자연유산센터' ' 제주민속자연사박물관' ' 제주4.3평화공원'\n",
            " ' 아침미소목장' ' 제주레일바이크' ' 서귀포잠수함' ' 아날로그감귤밭' ' 피시픽리솜 요트투어' ' 제주레포츠랜드'\n",
            " ' 월정리 카약 체험' ' 제주김녕미로공원' ' 에코랜드' ' 테디베어박물관' ' 아쿠아플라넷' ' 수월봉 지질트레일'\n",
            " ' 오설록티뮤지엄' ' 제주유리의성' ' 제주더마파크']\n",
            "[0. 1.]\n"
          ]
        }
      ]
    },
    {
      "cell_type": "code",
      "metadata": {
        "colab": {
          "base_uri": "https://localhost:8080/",
          "height": 204
        },
        "id": "Pg4qMfa0MbT1",
        "outputId": "c60faf7e-afc0-423e-d1fd-f75d0ac2dc41"
      },
      "source": [
        "tmp.head()"
      ],
      "execution_count": 120,
      "outputs": [
        {
          "output_type": "execute_result",
          "data": {
            "text/html": [
              "<div>\n",
              "<style scoped>\n",
              "    .dataframe tbody tr th:only-of-type {\n",
              "        vertical-align: middle;\n",
              "    }\n",
              "\n",
              "    .dataframe tbody tr th {\n",
              "        vertical-align: top;\n",
              "    }\n",
              "\n",
              "    .dataframe thead th {\n",
              "        text-align: right;\n",
              "    }\n",
              "</style>\n",
              "<table border=\"1\" class=\"dataframe\">\n",
              "  <thead>\n",
              "    <tr style=\"text-align: right;\">\n",
              "      <th></th>\n",
              "      <th>Index</th>\n",
              "      <th>1</th>\n",
              "      <th>2</th>\n",
              "      <th>3</th>\n",
              "      <th>4</th>\n",
              "      <th>5</th>\n",
              "      <th>6</th>\n",
              "      <th>7</th>\n",
              "      <th>8</th>\n",
              "      <th>9</th>\n",
              "      <th>10</th>\n",
              "      <th>11</th>\n",
              "      <th>12</th>\n",
              "      <th>13</th>\n",
              "      <th>14</th>\n",
              "      <th>15</th>\n",
              "      <th>16</th>\n",
              "      <th>17</th>\n",
              "      <th>18</th>\n",
              "      <th>feeling</th>\n",
              "      <th>place</th>\n",
              "      <th>Unnamed: 21</th>\n",
              "      <th>Unnamed: 22</th>\n",
              "      <th>Unnamed: 23</th>\n",
              "      <th>von</th>\n",
              "    </tr>\n",
              "  </thead>\n",
              "  <tbody>\n",
              "    <tr>\n",
              "      <th>0</th>\n",
              "      <td>1.0</td>\n",
              "      <td>4.0</td>\n",
              "      <td>2.0</td>\n",
              "      <td>2.0</td>\n",
              "      <td>3.0</td>\n",
              "      <td>4.0</td>\n",
              "      <td>4.0</td>\n",
              "      <td>3.0</td>\n",
              "      <td>4.0</td>\n",
              "      <td>4.0</td>\n",
              "      <td>3.0</td>\n",
              "      <td>4.0</td>\n",
              "      <td>3.0</td>\n",
              "      <td>4.0</td>\n",
              "      <td>4.0</td>\n",
              "      <td>2.0</td>\n",
              "      <td>4.0</td>\n",
              "      <td>4.0</td>\n",
              "      <td>4.0</td>\n",
              "      <td>happy</td>\n",
              "      <td>성산일출봉</td>\n",
              "      <td>0.327038</td>\n",
              "      <td>0.407812</td>\n",
              "      <td>0.265149</td>\n",
              "      <td>0.0</td>\n",
              "    </tr>\n",
              "    <tr>\n",
              "      <th>1</th>\n",
              "      <td>2.0</td>\n",
              "      <td>4.0</td>\n",
              "      <td>2.0</td>\n",
              "      <td>2.0</td>\n",
              "      <td>3.0</td>\n",
              "      <td>4.0</td>\n",
              "      <td>4.0</td>\n",
              "      <td>3.0</td>\n",
              "      <td>4.0</td>\n",
              "      <td>4.0</td>\n",
              "      <td>3.0</td>\n",
              "      <td>4.0</td>\n",
              "      <td>3.0</td>\n",
              "      <td>4.0</td>\n",
              "      <td>4.0</td>\n",
              "      <td>2.0</td>\n",
              "      <td>4.0</td>\n",
              "      <td>4.0</td>\n",
              "      <td>4.0</td>\n",
              "      <td>happy</td>\n",
              "      <td>사려니숲길</td>\n",
              "      <td>0.354847</td>\n",
              "      <td>0.383651</td>\n",
              "      <td>0.261502</td>\n",
              "      <td>0.0</td>\n",
              "    </tr>\n",
              "    <tr>\n",
              "      <th>2</th>\n",
              "      <td>3.0</td>\n",
              "      <td>4.0</td>\n",
              "      <td>2.0</td>\n",
              "      <td>2.0</td>\n",
              "      <td>3.0</td>\n",
              "      <td>4.0</td>\n",
              "      <td>4.0</td>\n",
              "      <td>3.0</td>\n",
              "      <td>4.0</td>\n",
              "      <td>4.0</td>\n",
              "      <td>3.0</td>\n",
              "      <td>4.0</td>\n",
              "      <td>3.0</td>\n",
              "      <td>4.0</td>\n",
              "      <td>4.0</td>\n",
              "      <td>2.0</td>\n",
              "      <td>4.0</td>\n",
              "      <td>4.0</td>\n",
              "      <td>4.0</td>\n",
              "      <td>happy</td>\n",
              "      <td>협재 해수욕장</td>\n",
              "      <td>0.318122</td>\n",
              "      <td>0.415449</td>\n",
              "      <td>0.266429</td>\n",
              "      <td>0.0</td>\n",
              "    </tr>\n",
              "    <tr>\n",
              "      <th>3</th>\n",
              "      <td>4.0</td>\n",
              "      <td>4.0</td>\n",
              "      <td>2.0</td>\n",
              "      <td>2.0</td>\n",
              "      <td>3.0</td>\n",
              "      <td>4.0</td>\n",
              "      <td>4.0</td>\n",
              "      <td>3.0</td>\n",
              "      <td>4.0</td>\n",
              "      <td>4.0</td>\n",
              "      <td>3.0</td>\n",
              "      <td>4.0</td>\n",
              "      <td>3.0</td>\n",
              "      <td>4.0</td>\n",
              "      <td>4.0</td>\n",
              "      <td>2.0</td>\n",
              "      <td>4.0</td>\n",
              "      <td>4.0</td>\n",
              "      <td>4.0</td>\n",
              "      <td>happy</td>\n",
              "      <td>월정리 해변</td>\n",
              "      <td>0.319874</td>\n",
              "      <td>0.419289</td>\n",
              "      <td>0.260837</td>\n",
              "      <td>0.0</td>\n",
              "    </tr>\n",
              "    <tr>\n",
              "      <th>4</th>\n",
              "      <td>5.0</td>\n",
              "      <td>4.0</td>\n",
              "      <td>2.0</td>\n",
              "      <td>2.0</td>\n",
              "      <td>3.0</td>\n",
              "      <td>4.0</td>\n",
              "      <td>4.0</td>\n",
              "      <td>3.0</td>\n",
              "      <td>4.0</td>\n",
              "      <td>4.0</td>\n",
              "      <td>3.0</td>\n",
              "      <td>4.0</td>\n",
              "      <td>3.0</td>\n",
              "      <td>4.0</td>\n",
              "      <td>4.0</td>\n",
              "      <td>2.0</td>\n",
              "      <td>4.0</td>\n",
              "      <td>4.0</td>\n",
              "      <td>4.0</td>\n",
              "      <td>happy</td>\n",
              "      <td>함덕 해수욕장</td>\n",
              "      <td>0.303036</td>\n",
              "      <td>0.444768</td>\n",
              "      <td>0.252196</td>\n",
              "      <td>0.0</td>\n",
              "    </tr>\n",
              "  </tbody>\n",
              "</table>\n",
              "</div>"
            ],
            "text/plain": [
              "   Index    1    2    3  ...  Unnamed: 21  Unnamed: 22  Unnamed: 23  von\n",
              "0    1.0  4.0  2.0  2.0  ...     0.327038     0.407812     0.265149  0.0\n",
              "1    2.0  4.0  2.0  2.0  ...     0.354847     0.383651     0.261502  0.0\n",
              "2    3.0  4.0  2.0  2.0  ...     0.318122     0.415449     0.266429  0.0\n",
              "3    4.0  4.0  2.0  2.0  ...     0.319874     0.419289     0.260837  0.0\n",
              "4    5.0  4.0  2.0  2.0  ...     0.303036     0.444768     0.252196  0.0\n",
              "\n",
              "[5 rows x 25 columns]"
            ]
          },
          "metadata": {},
          "execution_count": 120
        }
      ]
    },
    {
      "cell_type": "code",
      "metadata": {
        "id": "oF5tQHtTQXq0"
      },
      "source": [
        "tmp=tmp.drop(columns=['place'])"
      ],
      "execution_count": 121,
      "outputs": []
    },
    {
      "cell_type": "code",
      "metadata": {
        "colab": {
          "base_uri": "https://localhost:8080/",
          "height": 204
        },
        "id": "dtvfVI1rQll2",
        "outputId": "c5f745ca-3d85-4fa2-f396-617ebd797655"
      },
      "source": [
        "tmp.head()"
      ],
      "execution_count": 178,
      "outputs": [
        {
          "output_type": "execute_result",
          "data": {
            "text/html": [
              "<div>\n",
              "<style scoped>\n",
              "    .dataframe tbody tr th:only-of-type {\n",
              "        vertical-align: middle;\n",
              "    }\n",
              "\n",
              "    .dataframe tbody tr th {\n",
              "        vertical-align: top;\n",
              "    }\n",
              "\n",
              "    .dataframe thead th {\n",
              "        text-align: right;\n",
              "    }\n",
              "</style>\n",
              "<table border=\"1\" class=\"dataframe\">\n",
              "  <thead>\n",
              "    <tr style=\"text-align: right;\">\n",
              "      <th></th>\n",
              "      <th>1</th>\n",
              "      <th>2</th>\n",
              "      <th>3</th>\n",
              "      <th>4</th>\n",
              "      <th>5</th>\n",
              "      <th>6</th>\n",
              "      <th>7</th>\n",
              "      <th>8</th>\n",
              "      <th>9</th>\n",
              "      <th>10</th>\n",
              "      <th>11</th>\n",
              "      <th>12</th>\n",
              "      <th>13</th>\n",
              "      <th>14</th>\n",
              "      <th>15</th>\n",
              "      <th>16</th>\n",
              "      <th>17</th>\n",
              "      <th>18</th>\n",
              "      <th>feeling</th>\n",
              "      <th>Unnamed: 21</th>\n",
              "      <th>Unnamed: 22</th>\n",
              "      <th>Unnamed: 23</th>\n",
              "    </tr>\n",
              "  </thead>\n",
              "  <tbody>\n",
              "    <tr>\n",
              "      <th>0</th>\n",
              "      <td>4.0</td>\n",
              "      <td>2.0</td>\n",
              "      <td>2.0</td>\n",
              "      <td>3.0</td>\n",
              "      <td>4.0</td>\n",
              "      <td>4.0</td>\n",
              "      <td>3.0</td>\n",
              "      <td>4.0</td>\n",
              "      <td>4.0</td>\n",
              "      <td>3.0</td>\n",
              "      <td>4.0</td>\n",
              "      <td>3.0</td>\n",
              "      <td>4.0</td>\n",
              "      <td>4.0</td>\n",
              "      <td>2.0</td>\n",
              "      <td>4.0</td>\n",
              "      <td>4.0</td>\n",
              "      <td>4.0</td>\n",
              "      <td>1</td>\n",
              "      <td>0.327038</td>\n",
              "      <td>0.407812</td>\n",
              "      <td>0.265149</td>\n",
              "    </tr>\n",
              "    <tr>\n",
              "      <th>1</th>\n",
              "      <td>4.0</td>\n",
              "      <td>2.0</td>\n",
              "      <td>2.0</td>\n",
              "      <td>3.0</td>\n",
              "      <td>4.0</td>\n",
              "      <td>4.0</td>\n",
              "      <td>3.0</td>\n",
              "      <td>4.0</td>\n",
              "      <td>4.0</td>\n",
              "      <td>3.0</td>\n",
              "      <td>4.0</td>\n",
              "      <td>3.0</td>\n",
              "      <td>4.0</td>\n",
              "      <td>4.0</td>\n",
              "      <td>2.0</td>\n",
              "      <td>4.0</td>\n",
              "      <td>4.0</td>\n",
              "      <td>4.0</td>\n",
              "      <td>1</td>\n",
              "      <td>0.354847</td>\n",
              "      <td>0.383651</td>\n",
              "      <td>0.261502</td>\n",
              "    </tr>\n",
              "    <tr>\n",
              "      <th>2</th>\n",
              "      <td>4.0</td>\n",
              "      <td>2.0</td>\n",
              "      <td>2.0</td>\n",
              "      <td>3.0</td>\n",
              "      <td>4.0</td>\n",
              "      <td>4.0</td>\n",
              "      <td>3.0</td>\n",
              "      <td>4.0</td>\n",
              "      <td>4.0</td>\n",
              "      <td>3.0</td>\n",
              "      <td>4.0</td>\n",
              "      <td>3.0</td>\n",
              "      <td>4.0</td>\n",
              "      <td>4.0</td>\n",
              "      <td>2.0</td>\n",
              "      <td>4.0</td>\n",
              "      <td>4.0</td>\n",
              "      <td>4.0</td>\n",
              "      <td>1</td>\n",
              "      <td>0.318122</td>\n",
              "      <td>0.415449</td>\n",
              "      <td>0.266429</td>\n",
              "    </tr>\n",
              "    <tr>\n",
              "      <th>3</th>\n",
              "      <td>4.0</td>\n",
              "      <td>2.0</td>\n",
              "      <td>2.0</td>\n",
              "      <td>3.0</td>\n",
              "      <td>4.0</td>\n",
              "      <td>4.0</td>\n",
              "      <td>3.0</td>\n",
              "      <td>4.0</td>\n",
              "      <td>4.0</td>\n",
              "      <td>3.0</td>\n",
              "      <td>4.0</td>\n",
              "      <td>3.0</td>\n",
              "      <td>4.0</td>\n",
              "      <td>4.0</td>\n",
              "      <td>2.0</td>\n",
              "      <td>4.0</td>\n",
              "      <td>4.0</td>\n",
              "      <td>4.0</td>\n",
              "      <td>1</td>\n",
              "      <td>0.319874</td>\n",
              "      <td>0.419289</td>\n",
              "      <td>0.260837</td>\n",
              "    </tr>\n",
              "    <tr>\n",
              "      <th>4</th>\n",
              "      <td>4.0</td>\n",
              "      <td>2.0</td>\n",
              "      <td>2.0</td>\n",
              "      <td>3.0</td>\n",
              "      <td>4.0</td>\n",
              "      <td>4.0</td>\n",
              "      <td>3.0</td>\n",
              "      <td>4.0</td>\n",
              "      <td>4.0</td>\n",
              "      <td>3.0</td>\n",
              "      <td>4.0</td>\n",
              "      <td>3.0</td>\n",
              "      <td>4.0</td>\n",
              "      <td>4.0</td>\n",
              "      <td>2.0</td>\n",
              "      <td>4.0</td>\n",
              "      <td>4.0</td>\n",
              "      <td>4.0</td>\n",
              "      <td>1</td>\n",
              "      <td>0.303036</td>\n",
              "      <td>0.444768</td>\n",
              "      <td>0.252196</td>\n",
              "    </tr>\n",
              "  </tbody>\n",
              "</table>\n",
              "</div>"
            ],
            "text/plain": [
              "     1    2    3    4    5  ...   18  feeling  Unnamed: 21  Unnamed: 22  Unnamed: 23\n",
              "0  4.0  2.0  2.0  3.0  4.0  ...  4.0        1     0.327038     0.407812     0.265149\n",
              "1  4.0  2.0  2.0  3.0  4.0  ...  4.0        1     0.354847     0.383651     0.261502\n",
              "2  4.0  2.0  2.0  3.0  4.0  ...  4.0        1     0.318122     0.415449     0.266429\n",
              "3  4.0  2.0  2.0  3.0  4.0  ...  4.0        1     0.319874     0.419289     0.260837\n",
              "4  4.0  2.0  2.0  3.0  4.0  ...  4.0        1     0.303036     0.444768     0.252196\n",
              "\n",
              "[5 rows x 22 columns]"
            ]
          },
          "metadata": {},
          "execution_count": 178
        }
      ]
    },
    {
      "cell_type": "code",
      "metadata": {
        "colab": {
          "base_uri": "https://localhost:8080/",
          "height": 425
        },
        "id": "8cFW65VRfb3b",
        "outputId": "1d62b6da-03cf-426c-f57b-259266a0e6a7"
      },
      "source": [
        "from sklearn.preprocessing import OneHotEncoder\n",
        "encoder_1=OneHotEncoder()\n",
        "x_1=encoder_1.fit(tmp['feeling'])\n",
        "tmp['feeling']=x_1"
      ],
      "execution_count": 179,
      "outputs": [
        {
          "output_type": "error",
          "ename": "ValueError",
          "evalue": "ignored",
          "traceback": [
            "\u001b[0;31m---------------------------------------------------------------------------\u001b[0m",
            "\u001b[0;31mValueError\u001b[0m                                Traceback (most recent call last)",
            "\u001b[0;32m<ipython-input-179-b5c0d415a166>\u001b[0m in \u001b[0;36m<module>\u001b[0;34m()\u001b[0m\n\u001b[1;32m      1\u001b[0m \u001b[0;32mfrom\u001b[0m \u001b[0msklearn\u001b[0m\u001b[0;34m.\u001b[0m\u001b[0mpreprocessing\u001b[0m \u001b[0;32mimport\u001b[0m \u001b[0mOneHotEncoder\u001b[0m\u001b[0;34m\u001b[0m\u001b[0;34m\u001b[0m\u001b[0m\n\u001b[1;32m      2\u001b[0m \u001b[0mencoder_1\u001b[0m\u001b[0;34m=\u001b[0m\u001b[0mOneHotEncoder\u001b[0m\u001b[0;34m(\u001b[0m\u001b[0;34m)\u001b[0m\u001b[0;34m\u001b[0m\u001b[0;34m\u001b[0m\u001b[0m\n\u001b[0;32m----> 3\u001b[0;31m \u001b[0mx_1\u001b[0m\u001b[0;34m=\u001b[0m\u001b[0mencoder_1\u001b[0m\u001b[0;34m.\u001b[0m\u001b[0mfit\u001b[0m\u001b[0;34m(\u001b[0m\u001b[0mtmp\u001b[0m\u001b[0;34m[\u001b[0m\u001b[0;34m'feeling'\u001b[0m\u001b[0;34m]\u001b[0m\u001b[0;34m)\u001b[0m\u001b[0;34m\u001b[0m\u001b[0;34m\u001b[0m\u001b[0m\n\u001b[0m\u001b[1;32m      4\u001b[0m \u001b[0mtmp\u001b[0m\u001b[0;34m[\u001b[0m\u001b[0;34m'feeling'\u001b[0m\u001b[0;34m]\u001b[0m\u001b[0;34m=\u001b[0m\u001b[0mx_1\u001b[0m\u001b[0;34m\u001b[0m\u001b[0;34m\u001b[0m\u001b[0m\n",
            "\u001b[0;32m/usr/local/lib/python3.7/dist-packages/sklearn/preprocessing/_encoders.py\u001b[0m in \u001b[0;36mfit\u001b[0;34m(self, X, y)\u001b[0m\n\u001b[1;32m    345\u001b[0m         \"\"\"\n\u001b[1;32m    346\u001b[0m         \u001b[0mself\u001b[0m\u001b[0;34m.\u001b[0m\u001b[0m_validate_keywords\u001b[0m\u001b[0;34m(\u001b[0m\u001b[0;34m)\u001b[0m\u001b[0;34m\u001b[0m\u001b[0;34m\u001b[0m\u001b[0m\n\u001b[0;32m--> 347\u001b[0;31m         \u001b[0mself\u001b[0m\u001b[0;34m.\u001b[0m\u001b[0m_fit\u001b[0m\u001b[0;34m(\u001b[0m\u001b[0mX\u001b[0m\u001b[0;34m,\u001b[0m \u001b[0mhandle_unknown\u001b[0m\u001b[0;34m=\u001b[0m\u001b[0mself\u001b[0m\u001b[0;34m.\u001b[0m\u001b[0mhandle_unknown\u001b[0m\u001b[0;34m)\u001b[0m\u001b[0;34m\u001b[0m\u001b[0;34m\u001b[0m\u001b[0m\n\u001b[0m\u001b[1;32m    348\u001b[0m         \u001b[0mself\u001b[0m\u001b[0;34m.\u001b[0m\u001b[0mdrop_idx_\u001b[0m \u001b[0;34m=\u001b[0m \u001b[0mself\u001b[0m\u001b[0;34m.\u001b[0m\u001b[0m_compute_drop_idx\u001b[0m\u001b[0;34m(\u001b[0m\u001b[0;34m)\u001b[0m\u001b[0;34m\u001b[0m\u001b[0;34m\u001b[0m\u001b[0m\n\u001b[1;32m    349\u001b[0m         \u001b[0;32mreturn\u001b[0m \u001b[0mself\u001b[0m\u001b[0;34m\u001b[0m\u001b[0;34m\u001b[0m\u001b[0m\n",
            "\u001b[0;32m/usr/local/lib/python3.7/dist-packages/sklearn/preprocessing/_encoders.py\u001b[0m in \u001b[0;36m_fit\u001b[0;34m(self, X, handle_unknown)\u001b[0m\n\u001b[1;32m     72\u001b[0m \u001b[0;34m\u001b[0m\u001b[0m\n\u001b[1;32m     73\u001b[0m     \u001b[0;32mdef\u001b[0m \u001b[0m_fit\u001b[0m\u001b[0;34m(\u001b[0m\u001b[0mself\u001b[0m\u001b[0;34m,\u001b[0m \u001b[0mX\u001b[0m\u001b[0;34m,\u001b[0m \u001b[0mhandle_unknown\u001b[0m\u001b[0;34m=\u001b[0m\u001b[0;34m'error'\u001b[0m\u001b[0;34m)\u001b[0m\u001b[0;34m:\u001b[0m\u001b[0;34m\u001b[0m\u001b[0;34m\u001b[0m\u001b[0m\n\u001b[0;32m---> 74\u001b[0;31m         \u001b[0mX_list\u001b[0m\u001b[0;34m,\u001b[0m \u001b[0mn_samples\u001b[0m\u001b[0;34m,\u001b[0m \u001b[0mn_features\u001b[0m \u001b[0;34m=\u001b[0m \u001b[0mself\u001b[0m\u001b[0;34m.\u001b[0m\u001b[0m_check_X\u001b[0m\u001b[0;34m(\u001b[0m\u001b[0mX\u001b[0m\u001b[0;34m)\u001b[0m\u001b[0;34m\u001b[0m\u001b[0;34m\u001b[0m\u001b[0m\n\u001b[0m\u001b[1;32m     75\u001b[0m \u001b[0;34m\u001b[0m\u001b[0m\n\u001b[1;32m     76\u001b[0m         \u001b[0;32mif\u001b[0m \u001b[0mself\u001b[0m\u001b[0;34m.\u001b[0m\u001b[0mcategories\u001b[0m \u001b[0;34m!=\u001b[0m \u001b[0;34m'auto'\u001b[0m\u001b[0;34m:\u001b[0m\u001b[0;34m\u001b[0m\u001b[0;34m\u001b[0m\u001b[0m\n",
            "\u001b[0;32m/usr/local/lib/python3.7/dist-packages/sklearn/preprocessing/_encoders.py\u001b[0m in \u001b[0;36m_check_X\u001b[0;34m(self, X)\u001b[0m\n\u001b[1;32m     41\u001b[0m         \u001b[0;32mif\u001b[0m \u001b[0;32mnot\u001b[0m \u001b[0;34m(\u001b[0m\u001b[0mhasattr\u001b[0m\u001b[0;34m(\u001b[0m\u001b[0mX\u001b[0m\u001b[0;34m,\u001b[0m \u001b[0;34m'iloc'\u001b[0m\u001b[0;34m)\u001b[0m \u001b[0;32mand\u001b[0m \u001b[0mgetattr\u001b[0m\u001b[0;34m(\u001b[0m\u001b[0mX\u001b[0m\u001b[0;34m,\u001b[0m \u001b[0;34m'ndim'\u001b[0m\u001b[0;34m,\u001b[0m \u001b[0;36m0\u001b[0m\u001b[0;34m)\u001b[0m \u001b[0;34m==\u001b[0m \u001b[0;36m2\u001b[0m\u001b[0;34m)\u001b[0m\u001b[0;34m:\u001b[0m\u001b[0;34m\u001b[0m\u001b[0;34m\u001b[0m\u001b[0m\n\u001b[1;32m     42\u001b[0m             \u001b[0;31m# if not a dataframe, do normal check_array validation\u001b[0m\u001b[0;34m\u001b[0m\u001b[0;34m\u001b[0m\u001b[0;34m\u001b[0m\u001b[0m\n\u001b[0;32m---> 43\u001b[0;31m             \u001b[0mX_temp\u001b[0m \u001b[0;34m=\u001b[0m \u001b[0mcheck_array\u001b[0m\u001b[0;34m(\u001b[0m\u001b[0mX\u001b[0m\u001b[0;34m,\u001b[0m \u001b[0mdtype\u001b[0m\u001b[0;34m=\u001b[0m\u001b[0;32mNone\u001b[0m\u001b[0;34m)\u001b[0m\u001b[0;34m\u001b[0m\u001b[0;34m\u001b[0m\u001b[0m\n\u001b[0m\u001b[1;32m     44\u001b[0m             if (not hasattr(X, 'dtype')\n\u001b[1;32m     45\u001b[0m                     and np.issubdtype(X_temp.dtype, np.str_)):\n",
            "\u001b[0;32m/usr/local/lib/python3.7/dist-packages/sklearn/utils/validation.py\u001b[0m in \u001b[0;36mcheck_array\u001b[0;34m(array, accept_sparse, accept_large_sparse, dtype, order, copy, force_all_finite, ensure_2d, allow_nd, ensure_min_samples, ensure_min_features, warn_on_dtype, estimator)\u001b[0m\n\u001b[1;32m    554\u001b[0m                     \u001b[0;34m\"Reshape your data either using array.reshape(-1, 1) if \"\u001b[0m\u001b[0;34m\u001b[0m\u001b[0;34m\u001b[0m\u001b[0m\n\u001b[1;32m    555\u001b[0m                     \u001b[0;34m\"your data has a single feature or array.reshape(1, -1) \"\u001b[0m\u001b[0;34m\u001b[0m\u001b[0;34m\u001b[0m\u001b[0m\n\u001b[0;32m--> 556\u001b[0;31m                     \"if it contains a single sample.\".format(array))\n\u001b[0m\u001b[1;32m    557\u001b[0m \u001b[0;34m\u001b[0m\u001b[0m\n\u001b[1;32m    558\u001b[0m         \u001b[0;31m# in the future np.flexible dtypes will be handled like object dtypes\u001b[0m\u001b[0;34m\u001b[0m\u001b[0;34m\u001b[0m\u001b[0;34m\u001b[0m\u001b[0m\n",
            "\u001b[0;31mValueError\u001b[0m: Expected 2D array, got 1D array instead:\narray=[1 1 1 ... 2 2 2].\nReshape your data either using array.reshape(-1, 1) if your data has a single feature or array.reshape(1, -1) if it contains a single sample."
          ]
        }
      ]
    },
    {
      "cell_type": "code",
      "metadata": {
        "id": "zhRCIopNH0ZU"
      },
      "source": [
        "from sklearn.preprocessing import LabelEncoder\n",
        "encoder=LabelEncoder()\n",
        "x=encoder.fit_transform(tmp['feeling'])\n",
        "tmp['feeling']=x"
      ],
      "execution_count": 124,
      "outputs": []
    },
    {
      "cell_type": "code",
      "metadata": {
        "colab": {
          "base_uri": "https://localhost:8080/",
          "height": 204
        },
        "id": "8r45qQk9H0QT",
        "outputId": "ffa45f97-5030-4b78-dddf-12ca68a86973"
      },
      "source": [
        "tmp.head()"
      ],
      "execution_count": 125,
      "outputs": [
        {
          "output_type": "execute_result",
          "data": {
            "text/html": [
              "<div>\n",
              "<style scoped>\n",
              "    .dataframe tbody tr th:only-of-type {\n",
              "        vertical-align: middle;\n",
              "    }\n",
              "\n",
              "    .dataframe tbody tr th {\n",
              "        vertical-align: top;\n",
              "    }\n",
              "\n",
              "    .dataframe thead th {\n",
              "        text-align: right;\n",
              "    }\n",
              "</style>\n",
              "<table border=\"1\" class=\"dataframe\">\n",
              "  <thead>\n",
              "    <tr style=\"text-align: right;\">\n",
              "      <th></th>\n",
              "      <th>Index</th>\n",
              "      <th>1</th>\n",
              "      <th>2</th>\n",
              "      <th>3</th>\n",
              "      <th>4</th>\n",
              "      <th>5</th>\n",
              "      <th>6</th>\n",
              "      <th>7</th>\n",
              "      <th>8</th>\n",
              "      <th>9</th>\n",
              "      <th>10</th>\n",
              "      <th>11</th>\n",
              "      <th>12</th>\n",
              "      <th>13</th>\n",
              "      <th>14</th>\n",
              "      <th>15</th>\n",
              "      <th>16</th>\n",
              "      <th>17</th>\n",
              "      <th>18</th>\n",
              "      <th>feeling</th>\n",
              "      <th>Unnamed: 21</th>\n",
              "      <th>Unnamed: 22</th>\n",
              "      <th>Unnamed: 23</th>\n",
              "      <th>von</th>\n",
              "    </tr>\n",
              "  </thead>\n",
              "  <tbody>\n",
              "    <tr>\n",
              "      <th>0</th>\n",
              "      <td>1.0</td>\n",
              "      <td>4.0</td>\n",
              "      <td>2.0</td>\n",
              "      <td>2.0</td>\n",
              "      <td>3.0</td>\n",
              "      <td>4.0</td>\n",
              "      <td>4.0</td>\n",
              "      <td>3.0</td>\n",
              "      <td>4.0</td>\n",
              "      <td>4.0</td>\n",
              "      <td>3.0</td>\n",
              "      <td>4.0</td>\n",
              "      <td>3.0</td>\n",
              "      <td>4.0</td>\n",
              "      <td>4.0</td>\n",
              "      <td>2.0</td>\n",
              "      <td>4.0</td>\n",
              "      <td>4.0</td>\n",
              "      <td>4.0</td>\n",
              "      <td>1</td>\n",
              "      <td>0.327038</td>\n",
              "      <td>0.407812</td>\n",
              "      <td>0.265149</td>\n",
              "      <td>0.0</td>\n",
              "    </tr>\n",
              "    <tr>\n",
              "      <th>1</th>\n",
              "      <td>2.0</td>\n",
              "      <td>4.0</td>\n",
              "      <td>2.0</td>\n",
              "      <td>2.0</td>\n",
              "      <td>3.0</td>\n",
              "      <td>4.0</td>\n",
              "      <td>4.0</td>\n",
              "      <td>3.0</td>\n",
              "      <td>4.0</td>\n",
              "      <td>4.0</td>\n",
              "      <td>3.0</td>\n",
              "      <td>4.0</td>\n",
              "      <td>3.0</td>\n",
              "      <td>4.0</td>\n",
              "      <td>4.0</td>\n",
              "      <td>2.0</td>\n",
              "      <td>4.0</td>\n",
              "      <td>4.0</td>\n",
              "      <td>4.0</td>\n",
              "      <td>1</td>\n",
              "      <td>0.354847</td>\n",
              "      <td>0.383651</td>\n",
              "      <td>0.261502</td>\n",
              "      <td>0.0</td>\n",
              "    </tr>\n",
              "    <tr>\n",
              "      <th>2</th>\n",
              "      <td>3.0</td>\n",
              "      <td>4.0</td>\n",
              "      <td>2.0</td>\n",
              "      <td>2.0</td>\n",
              "      <td>3.0</td>\n",
              "      <td>4.0</td>\n",
              "      <td>4.0</td>\n",
              "      <td>3.0</td>\n",
              "      <td>4.0</td>\n",
              "      <td>4.0</td>\n",
              "      <td>3.0</td>\n",
              "      <td>4.0</td>\n",
              "      <td>3.0</td>\n",
              "      <td>4.0</td>\n",
              "      <td>4.0</td>\n",
              "      <td>2.0</td>\n",
              "      <td>4.0</td>\n",
              "      <td>4.0</td>\n",
              "      <td>4.0</td>\n",
              "      <td>1</td>\n",
              "      <td>0.318122</td>\n",
              "      <td>0.415449</td>\n",
              "      <td>0.266429</td>\n",
              "      <td>0.0</td>\n",
              "    </tr>\n",
              "    <tr>\n",
              "      <th>3</th>\n",
              "      <td>4.0</td>\n",
              "      <td>4.0</td>\n",
              "      <td>2.0</td>\n",
              "      <td>2.0</td>\n",
              "      <td>3.0</td>\n",
              "      <td>4.0</td>\n",
              "      <td>4.0</td>\n",
              "      <td>3.0</td>\n",
              "      <td>4.0</td>\n",
              "      <td>4.0</td>\n",
              "      <td>3.0</td>\n",
              "      <td>4.0</td>\n",
              "      <td>3.0</td>\n",
              "      <td>4.0</td>\n",
              "      <td>4.0</td>\n",
              "      <td>2.0</td>\n",
              "      <td>4.0</td>\n",
              "      <td>4.0</td>\n",
              "      <td>4.0</td>\n",
              "      <td>1</td>\n",
              "      <td>0.319874</td>\n",
              "      <td>0.419289</td>\n",
              "      <td>0.260837</td>\n",
              "      <td>0.0</td>\n",
              "    </tr>\n",
              "    <tr>\n",
              "      <th>4</th>\n",
              "      <td>5.0</td>\n",
              "      <td>4.0</td>\n",
              "      <td>2.0</td>\n",
              "      <td>2.0</td>\n",
              "      <td>3.0</td>\n",
              "      <td>4.0</td>\n",
              "      <td>4.0</td>\n",
              "      <td>3.0</td>\n",
              "      <td>4.0</td>\n",
              "      <td>4.0</td>\n",
              "      <td>3.0</td>\n",
              "      <td>4.0</td>\n",
              "      <td>3.0</td>\n",
              "      <td>4.0</td>\n",
              "      <td>4.0</td>\n",
              "      <td>2.0</td>\n",
              "      <td>4.0</td>\n",
              "      <td>4.0</td>\n",
              "      <td>4.0</td>\n",
              "      <td>1</td>\n",
              "      <td>0.303036</td>\n",
              "      <td>0.444768</td>\n",
              "      <td>0.252196</td>\n",
              "      <td>0.0</td>\n",
              "    </tr>\n",
              "  </tbody>\n",
              "</table>\n",
              "</div>"
            ],
            "text/plain": [
              "   Index    1    2    3  ...  Unnamed: 21  Unnamed: 22  Unnamed: 23  von\n",
              "0    1.0  4.0  2.0  2.0  ...     0.327038     0.407812     0.265149  0.0\n",
              "1    2.0  4.0  2.0  2.0  ...     0.354847     0.383651     0.261502  0.0\n",
              "2    3.0  4.0  2.0  2.0  ...     0.318122     0.415449     0.266429  0.0\n",
              "3    4.0  4.0  2.0  2.0  ...     0.319874     0.419289     0.260837  0.0\n",
              "4    5.0  4.0  2.0  2.0  ...     0.303036     0.444768     0.252196  0.0\n",
              "\n",
              "[5 rows x 24 columns]"
            ]
          },
          "metadata": {},
          "execution_count": 125
        }
      ]
    },
    {
      "cell_type": "code",
      "metadata": {
        "id": "VIJXSNz1Q2Qy"
      },
      "source": [
        "tmp=tmp.drop(columns=['Index'])"
      ],
      "execution_count": 126,
      "outputs": []
    },
    {
      "cell_type": "code",
      "metadata": {
        "id": "qpkLkKVgQ9_k"
      },
      "source": [
        "y_label=tmp['von']"
      ],
      "execution_count": 127,
      "outputs": []
    },
    {
      "cell_type": "code",
      "metadata": {
        "id": "oONNfwHsRArr"
      },
      "source": [
        "tmp=tmp.drop(columns=['von'])"
      ],
      "execution_count": 128,
      "outputs": []
    },
    {
      "cell_type": "code",
      "metadata": {
        "colab": {
          "base_uri": "https://localhost:8080/",
          "height": 204
        },
        "id": "9JEwOg3KRCY9",
        "outputId": "93979bff-0779-42a1-f0b2-b431dc3ec8c9"
      },
      "source": [
        "tmp.head()"
      ],
      "execution_count": 129,
      "outputs": [
        {
          "output_type": "execute_result",
          "data": {
            "text/html": [
              "<div>\n",
              "<style scoped>\n",
              "    .dataframe tbody tr th:only-of-type {\n",
              "        vertical-align: middle;\n",
              "    }\n",
              "\n",
              "    .dataframe tbody tr th {\n",
              "        vertical-align: top;\n",
              "    }\n",
              "\n",
              "    .dataframe thead th {\n",
              "        text-align: right;\n",
              "    }\n",
              "</style>\n",
              "<table border=\"1\" class=\"dataframe\">\n",
              "  <thead>\n",
              "    <tr style=\"text-align: right;\">\n",
              "      <th></th>\n",
              "      <th>1</th>\n",
              "      <th>2</th>\n",
              "      <th>3</th>\n",
              "      <th>4</th>\n",
              "      <th>5</th>\n",
              "      <th>6</th>\n",
              "      <th>7</th>\n",
              "      <th>8</th>\n",
              "      <th>9</th>\n",
              "      <th>10</th>\n",
              "      <th>11</th>\n",
              "      <th>12</th>\n",
              "      <th>13</th>\n",
              "      <th>14</th>\n",
              "      <th>15</th>\n",
              "      <th>16</th>\n",
              "      <th>17</th>\n",
              "      <th>18</th>\n",
              "      <th>feeling</th>\n",
              "      <th>Unnamed: 21</th>\n",
              "      <th>Unnamed: 22</th>\n",
              "      <th>Unnamed: 23</th>\n",
              "    </tr>\n",
              "  </thead>\n",
              "  <tbody>\n",
              "    <tr>\n",
              "      <th>0</th>\n",
              "      <td>4.0</td>\n",
              "      <td>2.0</td>\n",
              "      <td>2.0</td>\n",
              "      <td>3.0</td>\n",
              "      <td>4.0</td>\n",
              "      <td>4.0</td>\n",
              "      <td>3.0</td>\n",
              "      <td>4.0</td>\n",
              "      <td>4.0</td>\n",
              "      <td>3.0</td>\n",
              "      <td>4.0</td>\n",
              "      <td>3.0</td>\n",
              "      <td>4.0</td>\n",
              "      <td>4.0</td>\n",
              "      <td>2.0</td>\n",
              "      <td>4.0</td>\n",
              "      <td>4.0</td>\n",
              "      <td>4.0</td>\n",
              "      <td>1</td>\n",
              "      <td>0.327038</td>\n",
              "      <td>0.407812</td>\n",
              "      <td>0.265149</td>\n",
              "    </tr>\n",
              "    <tr>\n",
              "      <th>1</th>\n",
              "      <td>4.0</td>\n",
              "      <td>2.0</td>\n",
              "      <td>2.0</td>\n",
              "      <td>3.0</td>\n",
              "      <td>4.0</td>\n",
              "      <td>4.0</td>\n",
              "      <td>3.0</td>\n",
              "      <td>4.0</td>\n",
              "      <td>4.0</td>\n",
              "      <td>3.0</td>\n",
              "      <td>4.0</td>\n",
              "      <td>3.0</td>\n",
              "      <td>4.0</td>\n",
              "      <td>4.0</td>\n",
              "      <td>2.0</td>\n",
              "      <td>4.0</td>\n",
              "      <td>4.0</td>\n",
              "      <td>4.0</td>\n",
              "      <td>1</td>\n",
              "      <td>0.354847</td>\n",
              "      <td>0.383651</td>\n",
              "      <td>0.261502</td>\n",
              "    </tr>\n",
              "    <tr>\n",
              "      <th>2</th>\n",
              "      <td>4.0</td>\n",
              "      <td>2.0</td>\n",
              "      <td>2.0</td>\n",
              "      <td>3.0</td>\n",
              "      <td>4.0</td>\n",
              "      <td>4.0</td>\n",
              "      <td>3.0</td>\n",
              "      <td>4.0</td>\n",
              "      <td>4.0</td>\n",
              "      <td>3.0</td>\n",
              "      <td>4.0</td>\n",
              "      <td>3.0</td>\n",
              "      <td>4.0</td>\n",
              "      <td>4.0</td>\n",
              "      <td>2.0</td>\n",
              "      <td>4.0</td>\n",
              "      <td>4.0</td>\n",
              "      <td>4.0</td>\n",
              "      <td>1</td>\n",
              "      <td>0.318122</td>\n",
              "      <td>0.415449</td>\n",
              "      <td>0.266429</td>\n",
              "    </tr>\n",
              "    <tr>\n",
              "      <th>3</th>\n",
              "      <td>4.0</td>\n",
              "      <td>2.0</td>\n",
              "      <td>2.0</td>\n",
              "      <td>3.0</td>\n",
              "      <td>4.0</td>\n",
              "      <td>4.0</td>\n",
              "      <td>3.0</td>\n",
              "      <td>4.0</td>\n",
              "      <td>4.0</td>\n",
              "      <td>3.0</td>\n",
              "      <td>4.0</td>\n",
              "      <td>3.0</td>\n",
              "      <td>4.0</td>\n",
              "      <td>4.0</td>\n",
              "      <td>2.0</td>\n",
              "      <td>4.0</td>\n",
              "      <td>4.0</td>\n",
              "      <td>4.0</td>\n",
              "      <td>1</td>\n",
              "      <td>0.319874</td>\n",
              "      <td>0.419289</td>\n",
              "      <td>0.260837</td>\n",
              "    </tr>\n",
              "    <tr>\n",
              "      <th>4</th>\n",
              "      <td>4.0</td>\n",
              "      <td>2.0</td>\n",
              "      <td>2.0</td>\n",
              "      <td>3.0</td>\n",
              "      <td>4.0</td>\n",
              "      <td>4.0</td>\n",
              "      <td>3.0</td>\n",
              "      <td>4.0</td>\n",
              "      <td>4.0</td>\n",
              "      <td>3.0</td>\n",
              "      <td>4.0</td>\n",
              "      <td>3.0</td>\n",
              "      <td>4.0</td>\n",
              "      <td>4.0</td>\n",
              "      <td>2.0</td>\n",
              "      <td>4.0</td>\n",
              "      <td>4.0</td>\n",
              "      <td>4.0</td>\n",
              "      <td>1</td>\n",
              "      <td>0.303036</td>\n",
              "      <td>0.444768</td>\n",
              "      <td>0.252196</td>\n",
              "    </tr>\n",
              "  </tbody>\n",
              "</table>\n",
              "</div>"
            ],
            "text/plain": [
              "     1    2    3    4    5  ...   18  feeling  Unnamed: 21  Unnamed: 22  Unnamed: 23\n",
              "0  4.0  2.0  2.0  3.0  4.0  ...  4.0        1     0.327038     0.407812     0.265149\n",
              "1  4.0  2.0  2.0  3.0  4.0  ...  4.0        1     0.354847     0.383651     0.261502\n",
              "2  4.0  2.0  2.0  3.0  4.0  ...  4.0        1     0.318122     0.415449     0.266429\n",
              "3  4.0  2.0  2.0  3.0  4.0  ...  4.0        1     0.319874     0.419289     0.260837\n",
              "4  4.0  2.0  2.0  3.0  4.0  ...  4.0        1     0.303036     0.444768     0.252196\n",
              "\n",
              "[5 rows x 22 columns]"
            ]
          },
          "metadata": {},
          "execution_count": 129
        }
      ]
    },
    {
      "cell_type": "code",
      "metadata": {
        "id": "jaljm3MURE6f"
      },
      "source": [
        "from sklearn.preprocessing import RobustScaler\n",
        "rs=RobustScaler()\n",
        "tmp_rs=rs.fit_transform(tmp)"
      ],
      "execution_count": 137,
      "outputs": []
    },
    {
      "cell_type": "code",
      "metadata": {
        "id": "l0_nzeOJRijk"
      },
      "source": [
        "from sklearn.model_selection import train_test_split\n",
        "X_train, X_test, y_train, y_test = train_test_split(tmp_rs, y_label, test_size=0.2, random_state=42)"
      ],
      "execution_count": 159,
      "outputs": []
    },
    {
      "cell_type": "code",
      "metadata": {
        "colab": {
          "base_uri": "https://localhost:8080/"
        },
        "id": "IO1HkAsdVL6A",
        "outputId": "489cf5b4-15ef-48bc-9bf7-a22828d46b53"
      },
      "source": [
        "print(X_train)"
      ],
      "execution_count": 154,
      "outputs": [
        {
          "output_type": "stream",
          "name": "stdout",
          "text": [
            "[[-1.         -0.5        -0.5        ...  1.13952347 -0.2724134\n",
            "  -0.56426117]\n",
            " [ 2.          1.5         0.5        ... -1.31531117  1.25939045\n",
            "  -0.44575047]\n",
            " [ 2.          1.5         0.5        ...  0.06346109 -0.14540847\n",
            "   0.5320996 ]\n",
            " ...\n",
            " [ 1.          1.5         1.5        ... -0.64584145  0.82334958\n",
            "  -0.44297974]\n",
            " [ 2.          1.5         0.5        ...  0.39449729 -0.00202586\n",
            "  -0.1551753 ]\n",
            " [ 0.          1.          0.5        ... -1.72535103  1.68717372\n",
            "  -0.75574897]]\n"
          ]
        }
      ]
    },
    {
      "cell_type": "code",
      "metadata": {
        "id": "zurt6vKlVy8j"
      },
      "source": [
        "X_train_db=pd.DataFrame(X_train)"
      ],
      "execution_count": 155,
      "outputs": []
    },
    {
      "cell_type": "code",
      "metadata": {
        "id": "L-Mxinp_Sevg"
      },
      "source": [
        "model = models.Sequential()\n",
        "model.add(layers.Dense(units=512, activation='relu', input_shape=(4140,22)))\n",
        "model.add(layers.Dense(units=128, activation='relu'))\n",
        "model.add(layers.Dense(units=32, activation='relu'))\n",
        "model.add(layers.Dense(units=16, activation='relu'))\n",
        "model.add(layers.Dense(units=8, activation='relu'))\n",
        "model.add(layers.Dense(units=1, activation='sigmoid'))"
      ],
      "execution_count": 171,
      "outputs": []
    },
    {
      "cell_type": "code",
      "metadata": {
        "id": "dQsrCgVmSf07"
      },
      "source": [
        "model.compile(loss='binary_crossentropy', optimizer='rmsprop', metrics=['accuracy'])"
      ],
      "execution_count": 172,
      "outputs": []
    },
    {
      "cell_type": "code",
      "metadata": {
        "colab": {
          "base_uri": "https://localhost:8080/"
        },
        "id": "YNAjiyEFX-zX",
        "outputId": "8610b153-c8c8-4a0d-b416-0d9fc1676640"
      },
      "source": [
        "tmp_rs"
      ],
      "execution_count": 163,
      "outputs": [
        {
          "output_type": "execute_result",
          "data": {
            "text/plain": [
              "array([[ 1.        ,  0.        ,  0.        , ...,  0.49440056,\n",
              "        -0.54940272,  0.77043735],\n",
              "       [ 1.        ,  0.        ,  0.        , ...,  2.59112805,\n",
              "        -1.73200834,  0.42800218],\n",
              "       [ 1.        ,  0.        ,  0.        , ..., -0.17789282,\n",
              "        -0.17563088,  0.89062588],\n",
              "       ...,\n",
              "       [ 1.        ,  0.        , -0.5       , ...,  3.55792121,\n",
              "        -2.56661589,  0.82508967],\n",
              "       [ 1.        ,  0.        , -0.5       , ..., -0.06809657,\n",
              "         0.21737313,  0.        ],\n",
              "       [ 1.        ,  0.        , -0.5       , ..., -0.05562949,\n",
              "        -0.1742423 ,  0.73570409]])"
            ]
          },
          "metadata": {},
          "execution_count": 163
        }
      ]
    },
    {
      "cell_type": "code",
      "metadata": {
        "colab": {
          "base_uri": "https://localhost:8080/"
        },
        "id": "m4ZtbgRiSfyu",
        "outputId": "5bc9823d-c114-47a9-b6f7-b8d0bb8802ad"
      },
      "source": [
        "model.fit(x=tmp_rs, y=y_label, batch_size=512, epochs=30, validation_split=0.2)"
      ],
      "execution_count": 174,
      "outputs": [
        {
          "output_type": "stream",
          "name": "stdout",
          "text": [
            "Epoch 1/30\n",
            "7/7 [==============================] - 0s 14ms/step - loss: 0.3855 - accuracy: 0.8134 - val_loss: 1.0365 - val_accuracy: 0.4940\n",
            "Epoch 2/30\n",
            "7/7 [==============================] - 0s 9ms/step - loss: 0.3928 - accuracy: 0.8059 - val_loss: 1.2366 - val_accuracy: 0.4783\n",
            "Epoch 3/30\n",
            "7/7 [==============================] - 0s 8ms/step - loss: 0.3834 - accuracy: 0.8080 - val_loss: 1.7670 - val_accuracy: 0.4698\n",
            "Epoch 4/30\n",
            "7/7 [==============================] - 0s 9ms/step - loss: 0.3883 - accuracy: 0.8131 - val_loss: 1.1191 - val_accuracy: 0.4758\n",
            "Epoch 5/30\n",
            "7/7 [==============================] - 0s 9ms/step - loss: 0.3815 - accuracy: 0.8164 - val_loss: 1.8616 - val_accuracy: 0.4722\n",
            "Epoch 6/30\n",
            "7/7 [==============================] - 0s 9ms/step - loss: 0.3999 - accuracy: 0.8007 - val_loss: 1.5059 - val_accuracy: 0.4457\n",
            "Epoch 7/30\n",
            "7/7 [==============================] - 0s 10ms/step - loss: 0.3790 - accuracy: 0.8110 - val_loss: 1.3124 - val_accuracy: 0.5060\n",
            "Epoch 8/30\n",
            "7/7 [==============================] - 0s 10ms/step - loss: 0.3830 - accuracy: 0.8134 - val_loss: 1.0061 - val_accuracy: 0.5145\n",
            "Epoch 9/30\n",
            "7/7 [==============================] - 0s 13ms/step - loss: 0.3814 - accuracy: 0.8119 - val_loss: 1.2191 - val_accuracy: 0.4722\n",
            "Epoch 10/30\n",
            "7/7 [==============================] - 0s 12ms/step - loss: 0.3800 - accuracy: 0.8182 - val_loss: 1.2923 - val_accuracy: 0.4771\n",
            "Epoch 11/30\n",
            "7/7 [==============================] - 0s 10ms/step - loss: 0.3779 - accuracy: 0.8131 - val_loss: 1.3121 - val_accuracy: 0.4807\n",
            "Epoch 12/30\n",
            "7/7 [==============================] - 0s 9ms/step - loss: 0.3885 - accuracy: 0.8113 - val_loss: 1.4482 - val_accuracy: 0.4758\n",
            "Epoch 13/30\n",
            "7/7 [==============================] - 0s 9ms/step - loss: 0.3714 - accuracy: 0.8170 - val_loss: 1.3128 - val_accuracy: 0.4976\n",
            "Epoch 14/30\n",
            "7/7 [==============================] - 0s 9ms/step - loss: 0.3809 - accuracy: 0.8134 - val_loss: 1.3641 - val_accuracy: 0.4746\n",
            "Epoch 15/30\n",
            "7/7 [==============================] - 0s 10ms/step - loss: 0.3717 - accuracy: 0.8188 - val_loss: 1.2758 - val_accuracy: 0.4795\n",
            "Epoch 16/30\n",
            "7/7 [==============================] - 0s 9ms/step - loss: 0.3699 - accuracy: 0.8207 - val_loss: 1.1802 - val_accuracy: 0.5072\n",
            "Epoch 17/30\n",
            "7/7 [==============================] - 0s 9ms/step - loss: 0.3707 - accuracy: 0.8216 - val_loss: 1.2565 - val_accuracy: 0.4541\n",
            "Epoch 18/30\n",
            "7/7 [==============================] - 0s 9ms/step - loss: 0.3818 - accuracy: 0.8122 - val_loss: 1.2776 - val_accuracy: 0.4783\n",
            "Epoch 19/30\n",
            "7/7 [==============================] - 0s 10ms/step - loss: 0.3736 - accuracy: 0.8210 - val_loss: 1.3824 - val_accuracy: 0.4686\n",
            "Epoch 20/30\n",
            "7/7 [==============================] - 0s 10ms/step - loss: 0.3682 - accuracy: 0.8243 - val_loss: 1.4170 - val_accuracy: 0.4795\n",
            "Epoch 21/30\n",
            "7/7 [==============================] - 0s 9ms/step - loss: 0.3672 - accuracy: 0.8282 - val_loss: 1.2024 - val_accuracy: 0.4940\n",
            "Epoch 22/30\n",
            "7/7 [==============================] - 0s 9ms/step - loss: 0.3706 - accuracy: 0.8194 - val_loss: 1.5866 - val_accuracy: 0.4795\n",
            "Epoch 23/30\n",
            "7/7 [==============================] - 0s 8ms/step - loss: 0.3633 - accuracy: 0.8240 - val_loss: 1.3981 - val_accuracy: 0.4783\n",
            "Epoch 24/30\n",
            "7/7 [==============================] - 0s 11ms/step - loss: 0.3634 - accuracy: 0.8243 - val_loss: 1.4748 - val_accuracy: 0.4928\n",
            "Epoch 25/30\n",
            "7/7 [==============================] - 0s 9ms/step - loss: 0.3648 - accuracy: 0.8204 - val_loss: 1.6997 - val_accuracy: 0.4915\n",
            "Epoch 26/30\n",
            "7/7 [==============================] - 0s 8ms/step - loss: 0.3652 - accuracy: 0.8219 - val_loss: 1.4657 - val_accuracy: 0.4662\n",
            "Epoch 27/30\n",
            "7/7 [==============================] - 0s 9ms/step - loss: 0.3657 - accuracy: 0.8303 - val_loss: 1.6263 - val_accuracy: 0.4795\n",
            "Epoch 28/30\n",
            "7/7 [==============================] - 0s 8ms/step - loss: 0.3622 - accuracy: 0.8276 - val_loss: 1.4140 - val_accuracy: 0.4903\n",
            "Epoch 29/30\n",
            "7/7 [==============================] - 0s 8ms/step - loss: 0.3540 - accuracy: 0.8294 - val_loss: 1.5124 - val_accuracy: 0.4795\n",
            "Epoch 30/30\n",
            "7/7 [==============================] - 0s 10ms/step - loss: 0.3592 - accuracy: 0.8279 - val_loss: 1.5466 - val_accuracy: 0.4674\n"
          ]
        },
        {
          "output_type": "execute_result",
          "data": {
            "text/plain": [
              "<keras.callbacks.History at 0x7f29a02605d0>"
            ]
          },
          "metadata": {},
          "execution_count": 174
        }
      ]
    },
    {
      "cell_type": "code",
      "metadata": {
        "id": "cwo9VVgYSfvU"
      },
      "source": [
        "from keras.models import load_model\n",
        "\n",
        "model.save('test_model_1.h5')"
      ],
      "execution_count": 175,
      "outputs": []
    },
    {
      "cell_type": "code",
      "metadata": {
        "colab": {
          "base_uri": "https://localhost:8080/"
        },
        "id": "GwXZv3TGSfst",
        "outputId": "8c89ddcc-ed29-4a13-c046-fee95d9339c7"
      },
      "source": [
        "model.summary()"
      ],
      "execution_count": 176,
      "outputs": [
        {
          "output_type": "stream",
          "name": "stdout",
          "text": [
            "Model: \"sequential_11\"\n",
            "_________________________________________________________________\n",
            "Layer (type)                 Output Shape              Param #   \n",
            "=================================================================\n",
            "dense_22 (Dense)             (None, 4140, 512)         11776     \n",
            "_________________________________________________________________\n",
            "dense_23 (Dense)             (None, 4140, 128)         65664     \n",
            "_________________________________________________________________\n",
            "dense_24 (Dense)             (None, 4140, 32)          4128      \n",
            "_________________________________________________________________\n",
            "dense_25 (Dense)             (None, 4140, 16)          528       \n",
            "_________________________________________________________________\n",
            "dense_26 (Dense)             (None, 4140, 8)           136       \n",
            "_________________________________________________________________\n",
            "dense_27 (Dense)             (None, 4140, 1)           9         \n",
            "=================================================================\n",
            "Total params: 82,241\n",
            "Trainable params: 82,241\n",
            "Non-trainable params: 0\n",
            "_________________________________________________________________\n"
          ]
        }
      ]
    },
    {
      "cell_type": "code",
      "metadata": {
        "id": "JjgU7YwkSfqJ"
      },
      "source": [
        ""
      ],
      "execution_count": null,
      "outputs": []
    },
    {
      "cell_type": "code",
      "metadata": {
        "id": "kG8BUyuqSfnh"
      },
      "source": [
        ""
      ],
      "execution_count": null,
      "outputs": []
    },
    {
      "cell_type": "code",
      "metadata": {
        "id": "OYLYZ-3PPTbI"
      },
      "source": [
        ""
      ],
      "execution_count": null,
      "outputs": []
    }
  ]
}